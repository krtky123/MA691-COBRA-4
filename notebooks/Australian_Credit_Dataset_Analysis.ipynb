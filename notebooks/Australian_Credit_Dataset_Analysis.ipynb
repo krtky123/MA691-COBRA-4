{
  "nbformat": 4,
  "nbformat_minor": 0,
  "metadata": {
    "kernelspec": {
      "display_name": "Python 3",
      "language": "python",
      "name": "python3"
    },
    "language_info": {
      "codemirror_mode": {
        "name": "ipython",
        "version": 3
      },
      "file_extension": ".py",
      "mimetype": "text/x-python",
      "name": "python",
      "nbconvert_exporter": "python",
      "pygments_lexer": "ipython3",
      "version": "3.6.5"
    },
    "colab": {
      "name": "Australian Credit Dataset Analysis.ipynb",
      "provenance": [],
      "collapsed_sections": []
    }
  },
  "cells": [
    {
      "cell_type": "markdown",
      "metadata": {
        "id": "h75JnczVLJGR"
      },
      "source": [
        "# **Australian Credit Risk Dataset Analysis** \n",
        "\n",
        "The dataset concerns credit card applications. The simple idea is given a credit card application, should it be rejected (0) or approved (1) based on customer details and other paramters."
      ]
    },
    {
      "cell_type": "markdown",
      "metadata": {
        "id": "aAgfS3c9W5OQ"
      },
      "source": [
        "# **Subprocess**\n",
        "---\n",
        "The subprocess module allows you to spawn new processes, connect to their input/output/error pipes, and obtain their return codes.\n",
        "\n",
        "### `check_output()`\n",
        "\n",
        "Run command with arguments and return its output.\n",
        "\n",
        "If the return code was non-zero it raises a CalledProcessError. The CalledProcessError object will have the return code in the returncode attribute and any output in the output attribute."
      ]
    },
    {
      "cell_type": "code",
      "metadata": {
        "colab": {
          "base_uri": "https://localhost:8080/"
        },
        "id": "Hj-epNFIwiZv",
        "outputId": "edc5d017-57e1-4d37-a533-a82477aad2de"
      },
      "source": [
        "import subprocess\n",
        "print((subprocess.check_output(\"lscpu\", shell=True).strip()).decode())"
      ],
      "execution_count": 9,
      "outputs": [
        {
          "output_type": "stream",
          "name": "stdout",
          "text": [
            "Architecture:        x86_64\n",
            "CPU op-mode(s):      32-bit, 64-bit\n",
            "Byte Order:          Little Endian\n",
            "CPU(s):              2\n",
            "On-line CPU(s) list: 0,1\n",
            "Thread(s) per core:  2\n",
            "Core(s) per socket:  1\n",
            "Socket(s):           1\n",
            "NUMA node(s):        1\n",
            "Vendor ID:           GenuineIntel\n",
            "CPU family:          6\n",
            "Model:               79\n",
            "Model name:          Intel(R) Xeon(R) CPU @ 2.20GHz\n",
            "Stepping:            0\n",
            "CPU MHz:             2200.116\n",
            "BogoMIPS:            4400.23\n",
            "Hypervisor vendor:   KVM\n",
            "Virtualization type: full\n",
            "L1d cache:           32K\n",
            "L1i cache:           32K\n",
            "L2 cache:            256K\n",
            "L3 cache:            56320K\n",
            "NUMA node0 CPU(s):   0,1\n",
            "Flags:               fpu vme de pse tsc msr pae mce cx8 apic sep mtrr pge mca cmov pat pse36 clflush mmx fxsr sse sse2 ss ht syscall nx pdpe1gb rdtscp lm constant_tsc rep_good nopl xtopology nonstop_tsc cpuid tsc_known_freq pni pclmulqdq ssse3 fma cx16 pcid sse4_1 sse4_2 x2apic movbe popcnt aes xsave avx f16c rdrand hypervisor lahf_lm abm 3dnowprefetch invpcid_single ssbd ibrs ibpb stibp fsgsbase tsc_adjust bmi1 hle avx2 smep bmi2 erms invpcid rtm rdseed adx smap xsaveopt arat md_clear arch_capabilities\n"
          ]
        }
      ]
    },
    {
      "cell_type": "markdown",
      "metadata": {
        "id": "9YcHfnXPXgzb"
      },
      "source": [
        "# **Imports**\n",
        "---\n",
        "\n",
        "Import all libraries and packages needed for the analysis. Common classification models from sklearn are also choosen along with other packages for exploration and preprocessing."
      ]
    },
    {
      "cell_type": "code",
      "metadata": {
        "collapsed": true,
        "id": "150m-rcAwiZz"
      },
      "source": [
        "import pandas as pd\n",
        "import seaborn as sns\n",
        "import matplotlib.pyplot as plt\n",
        "import numpy as np\n",
        "from scipy.stats import kstest\n",
        "from sklearn.preprocessing import normalize\n",
        "from sklearn.model_selection import StratifiedKFold, cross_val_score, KFold, train_test_split,GridSearchCV, ShuffleSplit, StratifiedShuffleSplit, LeaveOneOut\n",
        "from sklearn.feature_selection import SelectFromModel\n",
        "from sklearn.metrics import accuracy_score, f1_score, make_scorer\n",
        "from sklearn.tree import DecisionTreeClassifier\n",
        "from sklearn.neighbors import KNeighborsClassifier\n",
        "from sklearn.naive_bayes import GaussianNB\n",
        "from sklearn.svm import SVC\n",
        "from sklearn.ensemble import RandomForestClassifier,GradientBoostingClassifier\n",
        "from sklearn.linear_model import LogisticRegression\n",
        "from sklearn.neural_network import MLPClassifier"
      ],
      "execution_count": 10,
      "outputs": []
    },
    {
      "cell_type": "code",
      "metadata": {
        "id": "4lw2_1i5cOub"
      },
      "source": [
        "# Ignoring warnings\n",
        "import warnings\n",
        "warnings.filterwarnings(\"ignore\")"
      ],
      "execution_count": 11,
      "outputs": []
    },
    {
      "cell_type": "markdown",
      "metadata": {
        "id": "28fjjEtRX9FU"
      },
      "source": [
        "# **Dataset** \n",
        "---\n",
        "\n",
        "We **read** and **describe** the Australian Credit Dataset taken from [UCI](https://archive.ics.uci.edu/ml/datasets/statlog+(australian+credit+approval). The dataset file concerns credit card applications and their acceptances or rejections.\n",
        "\n",
        "We read the data from [australian.dat](https://archive.ics.uci.edu/ml/machine-learning-databases/statlog/australian/australian.dat) file."
      ]
    },
    {
      "cell_type": "code",
      "metadata": {
        "collapsed": true,
        "id": "O7jiCn89wiZ0"
      },
      "source": [
        "df=pd.read_table('https://drive.google.com/uc?id=1nfomX-OWLDVa4FjmDLzr8vx_FPENH07N&export=download',sep='\\s+',header=None)\n",
        "df.columns=['X1','X2','X3','X4','X5','X6','X7','X8','X9','X10','X11','X12','X13','X14','Y']"
      ],
      "execution_count": 12,
      "outputs": []
    },
    {
      "cell_type": "code",
      "metadata": {
        "colab": {
          "base_uri": "https://localhost:8080/",
          "height": 201
        },
        "id": "aVPGvqeOwiZ1",
        "outputId": "1eae86ea-db0e-4dab-d61c-be4b77a8dab3"
      },
      "source": [
        "df.head()"
      ],
      "execution_count": 13,
      "outputs": [
        {
          "output_type": "execute_result",
          "data": {
            "text/html": [
              "<div>\n",
              "<style scoped>\n",
              "    .dataframe tbody tr th:only-of-type {\n",
              "        vertical-align: middle;\n",
              "    }\n",
              "\n",
              "    .dataframe tbody tr th {\n",
              "        vertical-align: top;\n",
              "    }\n",
              "\n",
              "    .dataframe thead th {\n",
              "        text-align: right;\n",
              "    }\n",
              "</style>\n",
              "<table border=\"1\" class=\"dataframe\">\n",
              "  <thead>\n",
              "    <tr style=\"text-align: right;\">\n",
              "      <th></th>\n",
              "      <th>X1</th>\n",
              "      <th>X2</th>\n",
              "      <th>X3</th>\n",
              "      <th>X4</th>\n",
              "      <th>X5</th>\n",
              "      <th>X6</th>\n",
              "      <th>X7</th>\n",
              "      <th>X8</th>\n",
              "      <th>X9</th>\n",
              "      <th>X10</th>\n",
              "      <th>X11</th>\n",
              "      <th>X12</th>\n",
              "      <th>X13</th>\n",
              "      <th>X14</th>\n",
              "      <th>Y</th>\n",
              "    </tr>\n",
              "  </thead>\n",
              "  <tbody>\n",
              "    <tr>\n",
              "      <th>0</th>\n",
              "      <td>1</td>\n",
              "      <td>22.08</td>\n",
              "      <td>11.46</td>\n",
              "      <td>2</td>\n",
              "      <td>4</td>\n",
              "      <td>4</td>\n",
              "      <td>1.585</td>\n",
              "      <td>0</td>\n",
              "      <td>0</td>\n",
              "      <td>0</td>\n",
              "      <td>1</td>\n",
              "      <td>2</td>\n",
              "      <td>100</td>\n",
              "      <td>1213</td>\n",
              "      <td>0</td>\n",
              "    </tr>\n",
              "    <tr>\n",
              "      <th>1</th>\n",
              "      <td>0</td>\n",
              "      <td>22.67</td>\n",
              "      <td>7.00</td>\n",
              "      <td>2</td>\n",
              "      <td>8</td>\n",
              "      <td>4</td>\n",
              "      <td>0.165</td>\n",
              "      <td>0</td>\n",
              "      <td>0</td>\n",
              "      <td>0</td>\n",
              "      <td>0</td>\n",
              "      <td>2</td>\n",
              "      <td>160</td>\n",
              "      <td>1</td>\n",
              "      <td>0</td>\n",
              "    </tr>\n",
              "    <tr>\n",
              "      <th>2</th>\n",
              "      <td>0</td>\n",
              "      <td>29.58</td>\n",
              "      <td>1.75</td>\n",
              "      <td>1</td>\n",
              "      <td>4</td>\n",
              "      <td>4</td>\n",
              "      <td>1.250</td>\n",
              "      <td>0</td>\n",
              "      <td>0</td>\n",
              "      <td>0</td>\n",
              "      <td>1</td>\n",
              "      <td>2</td>\n",
              "      <td>280</td>\n",
              "      <td>1</td>\n",
              "      <td>0</td>\n",
              "    </tr>\n",
              "    <tr>\n",
              "      <th>3</th>\n",
              "      <td>0</td>\n",
              "      <td>21.67</td>\n",
              "      <td>11.50</td>\n",
              "      <td>1</td>\n",
              "      <td>5</td>\n",
              "      <td>3</td>\n",
              "      <td>0.000</td>\n",
              "      <td>1</td>\n",
              "      <td>1</td>\n",
              "      <td>11</td>\n",
              "      <td>1</td>\n",
              "      <td>2</td>\n",
              "      <td>0</td>\n",
              "      <td>1</td>\n",
              "      <td>1</td>\n",
              "    </tr>\n",
              "    <tr>\n",
              "      <th>4</th>\n",
              "      <td>1</td>\n",
              "      <td>20.17</td>\n",
              "      <td>8.17</td>\n",
              "      <td>2</td>\n",
              "      <td>6</td>\n",
              "      <td>4</td>\n",
              "      <td>1.960</td>\n",
              "      <td>1</td>\n",
              "      <td>1</td>\n",
              "      <td>14</td>\n",
              "      <td>0</td>\n",
              "      <td>2</td>\n",
              "      <td>60</td>\n",
              "      <td>159</td>\n",
              "      <td>1</td>\n",
              "    </tr>\n",
              "  </tbody>\n",
              "</table>\n",
              "</div>"
            ],
            "text/plain": [
              "   X1     X2     X3  X4  X5  X6     X7  X8  X9  X10  X11  X12  X13   X14  Y\n",
              "0   1  22.08  11.46   2   4   4  1.585   0   0    0    1    2  100  1213  0\n",
              "1   0  22.67   7.00   2   8   4  0.165   0   0    0    0    2  160     1  0\n",
              "2   0  29.58   1.75   1   4   4  1.250   0   0    0    1    2  280     1  0\n",
              "3   0  21.67  11.50   1   5   3  0.000   1   1   11    1    2    0     1  1\n",
              "4   1  20.17   8.17   2   6   4  1.960   1   1   14    0    2   60   159  1"
            ]
          },
          "metadata": {},
          "execution_count": 13
        }
      ]
    },
    {
      "cell_type": "markdown",
      "metadata": {
        "id": "Pf-GWG0TZ19q"
      },
      "source": [
        "**Dataset Information:**\n",
        "\n",
        "All attribute names and values have been changed to meaningless symbols to protect confidentiality of the data. The source of data has also been kept confedential. This dataset is interesting because there is a good mix of attributes -- continuous, nominal with small numbers of values, and nominal with larger numbers of values. There are also a few missing values."
      ]
    },
    {
      "cell_type": "code",
      "metadata": {
        "colab": {
          "base_uri": "https://localhost:8080/"
        },
        "id": "zu9SoSOcwiZ1",
        "outputId": "86f49c54-e506-4da5-da81-2c8180fa9788"
      },
      "source": [
        "df.info()"
      ],
      "execution_count": 14,
      "outputs": [
        {
          "output_type": "stream",
          "name": "stdout",
          "text": [
            "<class 'pandas.core.frame.DataFrame'>\n",
            "RangeIndex: 690 entries, 0 to 689\n",
            "Data columns (total 15 columns):\n",
            " #   Column  Non-Null Count  Dtype  \n",
            "---  ------  --------------  -----  \n",
            " 0   X1      690 non-null    int64  \n",
            " 1   X2      690 non-null    float64\n",
            " 2   X3      690 non-null    float64\n",
            " 3   X4      690 non-null    int64  \n",
            " 4   X5      690 non-null    int64  \n",
            " 5   X6      690 non-null    int64  \n",
            " 6   X7      690 non-null    float64\n",
            " 7   X8      690 non-null    int64  \n",
            " 8   X9      690 non-null    int64  \n",
            " 9   X10     690 non-null    int64  \n",
            " 10  X11     690 non-null    int64  \n",
            " 11  X12     690 non-null    int64  \n",
            " 12  X13     690 non-null    int64  \n",
            " 13  X14     690 non-null    int64  \n",
            " 14  Y       690 non-null    int64  \n",
            "dtypes: float64(3), int64(12)\n",
            "memory usage: 81.0 KB\n"
          ]
        }
      ]
    },
    {
      "cell_type": "code",
      "metadata": {
        "colab": {
          "base_uri": "https://localhost:8080/",
          "height": 313
        },
        "id": "ktqCUdMLf02D",
        "outputId": "a0d3cdb4-a807-41c7-8076-b8931e016811"
      },
      "source": [
        "# Get descriptive statistics of the data\n",
        "df.describe(include=\"all\")"
      ],
      "execution_count": 15,
      "outputs": [
        {
          "output_type": "execute_result",
          "data": {
            "text/html": [
              "<div>\n",
              "<style scoped>\n",
              "    .dataframe tbody tr th:only-of-type {\n",
              "        vertical-align: middle;\n",
              "    }\n",
              "\n",
              "    .dataframe tbody tr th {\n",
              "        vertical-align: top;\n",
              "    }\n",
              "\n",
              "    .dataframe thead th {\n",
              "        text-align: right;\n",
              "    }\n",
              "</style>\n",
              "<table border=\"1\" class=\"dataframe\">\n",
              "  <thead>\n",
              "    <tr style=\"text-align: right;\">\n",
              "      <th></th>\n",
              "      <th>X1</th>\n",
              "      <th>X2</th>\n",
              "      <th>X3</th>\n",
              "      <th>X4</th>\n",
              "      <th>X5</th>\n",
              "      <th>X6</th>\n",
              "      <th>X7</th>\n",
              "      <th>X8</th>\n",
              "      <th>X9</th>\n",
              "      <th>X10</th>\n",
              "      <th>X11</th>\n",
              "      <th>X12</th>\n",
              "      <th>X13</th>\n",
              "      <th>X14</th>\n",
              "      <th>Y</th>\n",
              "    </tr>\n",
              "  </thead>\n",
              "  <tbody>\n",
              "    <tr>\n",
              "      <th>count</th>\n",
              "      <td>690.000000</td>\n",
              "      <td>690.000000</td>\n",
              "      <td>690.000000</td>\n",
              "      <td>690.000000</td>\n",
              "      <td>690.000000</td>\n",
              "      <td>690.000000</td>\n",
              "      <td>690.000000</td>\n",
              "      <td>690.000000</td>\n",
              "      <td>690.000000</td>\n",
              "      <td>690.00000</td>\n",
              "      <td>690.000000</td>\n",
              "      <td>690.000000</td>\n",
              "      <td>690.000000</td>\n",
              "      <td>690.000000</td>\n",
              "      <td>690.000000</td>\n",
              "    </tr>\n",
              "    <tr>\n",
              "      <th>mean</th>\n",
              "      <td>0.678261</td>\n",
              "      <td>31.568203</td>\n",
              "      <td>4.758725</td>\n",
              "      <td>1.766667</td>\n",
              "      <td>7.372464</td>\n",
              "      <td>4.692754</td>\n",
              "      <td>2.223406</td>\n",
              "      <td>0.523188</td>\n",
              "      <td>0.427536</td>\n",
              "      <td>2.40000</td>\n",
              "      <td>0.457971</td>\n",
              "      <td>1.928986</td>\n",
              "      <td>184.014493</td>\n",
              "      <td>1018.385507</td>\n",
              "      <td>0.444928</td>\n",
              "    </tr>\n",
              "    <tr>\n",
              "      <th>std</th>\n",
              "      <td>0.467482</td>\n",
              "      <td>11.853273</td>\n",
              "      <td>4.978163</td>\n",
              "      <td>0.430063</td>\n",
              "      <td>3.683265</td>\n",
              "      <td>1.992316</td>\n",
              "      <td>3.346513</td>\n",
              "      <td>0.499824</td>\n",
              "      <td>0.495080</td>\n",
              "      <td>4.86294</td>\n",
              "      <td>0.498592</td>\n",
              "      <td>0.298813</td>\n",
              "      <td>172.159274</td>\n",
              "      <td>5210.102598</td>\n",
              "      <td>0.497318</td>\n",
              "    </tr>\n",
              "    <tr>\n",
              "      <th>min</th>\n",
              "      <td>0.000000</td>\n",
              "      <td>13.750000</td>\n",
              "      <td>0.000000</td>\n",
              "      <td>1.000000</td>\n",
              "      <td>1.000000</td>\n",
              "      <td>1.000000</td>\n",
              "      <td>0.000000</td>\n",
              "      <td>0.000000</td>\n",
              "      <td>0.000000</td>\n",
              "      <td>0.00000</td>\n",
              "      <td>0.000000</td>\n",
              "      <td>1.000000</td>\n",
              "      <td>0.000000</td>\n",
              "      <td>1.000000</td>\n",
              "      <td>0.000000</td>\n",
              "    </tr>\n",
              "    <tr>\n",
              "      <th>25%</th>\n",
              "      <td>0.000000</td>\n",
              "      <td>22.670000</td>\n",
              "      <td>1.000000</td>\n",
              "      <td>2.000000</td>\n",
              "      <td>4.000000</td>\n",
              "      <td>4.000000</td>\n",
              "      <td>0.165000</td>\n",
              "      <td>0.000000</td>\n",
              "      <td>0.000000</td>\n",
              "      <td>0.00000</td>\n",
              "      <td>0.000000</td>\n",
              "      <td>2.000000</td>\n",
              "      <td>80.000000</td>\n",
              "      <td>1.000000</td>\n",
              "      <td>0.000000</td>\n",
              "    </tr>\n",
              "    <tr>\n",
              "      <th>50%</th>\n",
              "      <td>1.000000</td>\n",
              "      <td>28.625000</td>\n",
              "      <td>2.750000</td>\n",
              "      <td>2.000000</td>\n",
              "      <td>8.000000</td>\n",
              "      <td>4.000000</td>\n",
              "      <td>1.000000</td>\n",
              "      <td>1.000000</td>\n",
              "      <td>0.000000</td>\n",
              "      <td>0.00000</td>\n",
              "      <td>0.000000</td>\n",
              "      <td>2.000000</td>\n",
              "      <td>160.000000</td>\n",
              "      <td>6.000000</td>\n",
              "      <td>0.000000</td>\n",
              "    </tr>\n",
              "    <tr>\n",
              "      <th>75%</th>\n",
              "      <td>1.000000</td>\n",
              "      <td>37.707500</td>\n",
              "      <td>7.207500</td>\n",
              "      <td>2.000000</td>\n",
              "      <td>10.000000</td>\n",
              "      <td>5.000000</td>\n",
              "      <td>2.625000</td>\n",
              "      <td>1.000000</td>\n",
              "      <td>1.000000</td>\n",
              "      <td>3.00000</td>\n",
              "      <td>1.000000</td>\n",
              "      <td>2.000000</td>\n",
              "      <td>272.000000</td>\n",
              "      <td>396.500000</td>\n",
              "      <td>1.000000</td>\n",
              "    </tr>\n",
              "    <tr>\n",
              "      <th>max</th>\n",
              "      <td>1.000000</td>\n",
              "      <td>80.250000</td>\n",
              "      <td>28.000000</td>\n",
              "      <td>3.000000</td>\n",
              "      <td>14.000000</td>\n",
              "      <td>9.000000</td>\n",
              "      <td>28.500000</td>\n",
              "      <td>1.000000</td>\n",
              "      <td>1.000000</td>\n",
              "      <td>67.00000</td>\n",
              "      <td>1.000000</td>\n",
              "      <td>3.000000</td>\n",
              "      <td>2000.000000</td>\n",
              "      <td>100001.000000</td>\n",
              "      <td>1.000000</td>\n",
              "    </tr>\n",
              "  </tbody>\n",
              "</table>\n",
              "</div>"
            ],
            "text/plain": [
              "               X1          X2  ...            X14           Y\n",
              "count  690.000000  690.000000  ...     690.000000  690.000000\n",
              "mean     0.678261   31.568203  ...    1018.385507    0.444928\n",
              "std      0.467482   11.853273  ...    5210.102598    0.497318\n",
              "min      0.000000   13.750000  ...       1.000000    0.000000\n",
              "25%      0.000000   22.670000  ...       1.000000    0.000000\n",
              "50%      1.000000   28.625000  ...       6.000000    0.000000\n",
              "75%      1.000000   37.707500  ...     396.500000    1.000000\n",
              "max      1.000000   80.250000  ...  100001.000000    1.000000\n",
              "\n",
              "[8 rows x 15 columns]"
            ]
          },
          "metadata": {},
          "execution_count": 15
        }
      ]
    },
    {
      "cell_type": "markdown",
      "metadata": {
        "id": "FL51UJAHaN8_"
      },
      "source": [
        "**Attribute Information:**\n",
        "\n",
        "There are **6 numerical** and **8 categorical** attributes. The labels have been changed for the convenience of the statistical algorithms. For example, attribute 4 originally had 3 labels p,g,gg and these have been changed to labels 1,2,3.\n",
        "\n",
        "* **X1**: 0,1 CATEGORICAL (formerly: a,b)\n",
        "* **X2**: continuous.\n",
        "* **X3**: continuous.\n",
        "* **X4**: 1,2,3 CATEGORICAL (formerly: p,g,gg)\n",
        "* **X5**: 1, 2,3,4,5, 6,7,8,9,10,11,12,13,14 CATEGORICAL (formerly: ff,d,i,k,j,aa,m,c,w, e, q, r,cc, x)\n",
        "* **X6**: 1, 2,3, 4,5,6,7,8,9 CATEGORICAL (formerly: ff,dd,j,bb,v,n,o,h,z)\n",
        "* **X7**: continuous.\n",
        "* **X8**: 1, 0 CATEGORICAL (formerly: t, f)\n",
        "* **X9**: 1, 0 CATEGORICAL (formerly: t, f)\n",
        "* **X10**: continuous.\n",
        "* **X11**: 1, 0 CATEGORICAL (formerly t, f)\n",
        "* **X12**: 1, 2, 3 CATEGORICAL (formerly: s, g, p)\n",
        "* **X13**: continuous.\n",
        "* **X14**: continuous.\n",
        "* **Y**: 1,2 class attribute (formerly: +,-)\n",
        "\n"
      ]
    },
    {
      "cell_type": "code",
      "metadata": {
        "colab": {
          "base_uri": "https://localhost:8080/"
        },
        "id": "CbL8A8uOgUn4",
        "outputId": "c46161c9-cd58-45aa-8013-4dd59e14b190"
      },
      "source": [
        "# Number of unique vaules in each column\n",
        "df.nunique()"
      ],
      "execution_count": 16,
      "outputs": [
        {
          "output_type": "execute_result",
          "data": {
            "text/plain": [
              "X1       2\n",
              "X2     350\n",
              "X3     215\n",
              "X4       3\n",
              "X5      14\n",
              "X6       8\n",
              "X7     132\n",
              "X8       2\n",
              "X9       2\n",
              "X10     23\n",
              "X11      2\n",
              "X12      3\n",
              "X13    171\n",
              "X14    240\n",
              "Y        2\n",
              "dtype: int64"
            ]
          },
          "metadata": {},
          "execution_count": 16
        }
      ]
    },
    {
      "cell_type": "code",
      "metadata": {
        "colab": {
          "base_uri": "https://localhost:8080/"
        },
        "id": "SjvCx30OgOjM",
        "outputId": "d3dfc9e6-8b62-4bf4-af5e-019a9fa69aa6"
      },
      "source": [
        "# Any null values\n",
        "df.isnull().sum()"
      ],
      "execution_count": 17,
      "outputs": [
        {
          "output_type": "execute_result",
          "data": {
            "text/plain": [
              "X1     0\n",
              "X2     0\n",
              "X3     0\n",
              "X4     0\n",
              "X5     0\n",
              "X6     0\n",
              "X7     0\n",
              "X8     0\n",
              "X9     0\n",
              "X10    0\n",
              "X11    0\n",
              "X12    0\n",
              "X13    0\n",
              "X14    0\n",
              "Y      0\n",
              "dtype: int64"
            ]
          },
          "metadata": {},
          "execution_count": 17
        }
      ]
    },
    {
      "cell_type": "code",
      "metadata": {
        "collapsed": true,
        "id": "W42G-XpBwiZ1"
      },
      "source": [
        "# Splitting the dataframe into categorial and continuous parameters.\n",
        "df_cat=df[['X1','X4','X5','X6','X8','X9','X11','X12','Y']]\n",
        "df_cont=df[['X2','X3','X7','X10','X13','X14','Y']]"
      ],
      "execution_count": 18,
      "outputs": []
    },
    {
      "cell_type": "code",
      "metadata": {
        "scrolled": true,
        "colab": {
          "base_uri": "https://localhost:8080/",
          "height": 293
        },
        "id": "fC6rZKXpwiZ2",
        "outputId": "79f5b8d4-ef11-4124-e124-69ab3aa41e07"
      },
      "source": [
        "df_cont.describe()"
      ],
      "execution_count": 19,
      "outputs": [
        {
          "output_type": "execute_result",
          "data": {
            "text/html": [
              "<div>\n",
              "<style scoped>\n",
              "    .dataframe tbody tr th:only-of-type {\n",
              "        vertical-align: middle;\n",
              "    }\n",
              "\n",
              "    .dataframe tbody tr th {\n",
              "        vertical-align: top;\n",
              "    }\n",
              "\n",
              "    .dataframe thead th {\n",
              "        text-align: right;\n",
              "    }\n",
              "</style>\n",
              "<table border=\"1\" class=\"dataframe\">\n",
              "  <thead>\n",
              "    <tr style=\"text-align: right;\">\n",
              "      <th></th>\n",
              "      <th>X2</th>\n",
              "      <th>X3</th>\n",
              "      <th>X7</th>\n",
              "      <th>X10</th>\n",
              "      <th>X13</th>\n",
              "      <th>X14</th>\n",
              "      <th>Y</th>\n",
              "    </tr>\n",
              "  </thead>\n",
              "  <tbody>\n",
              "    <tr>\n",
              "      <th>count</th>\n",
              "      <td>690.000000</td>\n",
              "      <td>690.000000</td>\n",
              "      <td>690.000000</td>\n",
              "      <td>690.00000</td>\n",
              "      <td>690.000000</td>\n",
              "      <td>690.000000</td>\n",
              "      <td>690.000000</td>\n",
              "    </tr>\n",
              "    <tr>\n",
              "      <th>mean</th>\n",
              "      <td>31.568203</td>\n",
              "      <td>4.758725</td>\n",
              "      <td>2.223406</td>\n",
              "      <td>2.40000</td>\n",
              "      <td>184.014493</td>\n",
              "      <td>1018.385507</td>\n",
              "      <td>0.444928</td>\n",
              "    </tr>\n",
              "    <tr>\n",
              "      <th>std</th>\n",
              "      <td>11.853273</td>\n",
              "      <td>4.978163</td>\n",
              "      <td>3.346513</td>\n",
              "      <td>4.86294</td>\n",
              "      <td>172.159274</td>\n",
              "      <td>5210.102598</td>\n",
              "      <td>0.497318</td>\n",
              "    </tr>\n",
              "    <tr>\n",
              "      <th>min</th>\n",
              "      <td>13.750000</td>\n",
              "      <td>0.000000</td>\n",
              "      <td>0.000000</td>\n",
              "      <td>0.00000</td>\n",
              "      <td>0.000000</td>\n",
              "      <td>1.000000</td>\n",
              "      <td>0.000000</td>\n",
              "    </tr>\n",
              "    <tr>\n",
              "      <th>25%</th>\n",
              "      <td>22.670000</td>\n",
              "      <td>1.000000</td>\n",
              "      <td>0.165000</td>\n",
              "      <td>0.00000</td>\n",
              "      <td>80.000000</td>\n",
              "      <td>1.000000</td>\n",
              "      <td>0.000000</td>\n",
              "    </tr>\n",
              "    <tr>\n",
              "      <th>50%</th>\n",
              "      <td>28.625000</td>\n",
              "      <td>2.750000</td>\n",
              "      <td>1.000000</td>\n",
              "      <td>0.00000</td>\n",
              "      <td>160.000000</td>\n",
              "      <td>6.000000</td>\n",
              "      <td>0.000000</td>\n",
              "    </tr>\n",
              "    <tr>\n",
              "      <th>75%</th>\n",
              "      <td>37.707500</td>\n",
              "      <td>7.207500</td>\n",
              "      <td>2.625000</td>\n",
              "      <td>3.00000</td>\n",
              "      <td>272.000000</td>\n",
              "      <td>396.500000</td>\n",
              "      <td>1.000000</td>\n",
              "    </tr>\n",
              "    <tr>\n",
              "      <th>max</th>\n",
              "      <td>80.250000</td>\n",
              "      <td>28.000000</td>\n",
              "      <td>28.500000</td>\n",
              "      <td>67.00000</td>\n",
              "      <td>2000.000000</td>\n",
              "      <td>100001.000000</td>\n",
              "      <td>1.000000</td>\n",
              "    </tr>\n",
              "  </tbody>\n",
              "</table>\n",
              "</div>"
            ],
            "text/plain": [
              "               X2          X3  ...            X14           Y\n",
              "count  690.000000  690.000000  ...     690.000000  690.000000\n",
              "mean    31.568203    4.758725  ...    1018.385507    0.444928\n",
              "std     11.853273    4.978163  ...    5210.102598    0.497318\n",
              "min     13.750000    0.000000  ...       1.000000    0.000000\n",
              "25%     22.670000    1.000000  ...       1.000000    0.000000\n",
              "50%     28.625000    2.750000  ...       6.000000    0.000000\n",
              "75%     37.707500    7.207500  ...     396.500000    1.000000\n",
              "max     80.250000   28.000000  ...  100001.000000    1.000000\n",
              "\n",
              "[8 rows x 7 columns]"
            ]
          },
          "metadata": {},
          "execution_count": 19
        }
      ]
    },
    {
      "cell_type": "markdown",
      "metadata": {
        "id": "P3v_pOjJwiZ2"
      },
      "source": [
        "# **Exploration**\n",
        "---\n",
        "\n",
        "Now we will do some data exploration and make a few plots.\n"
      ]
    },
    {
      "cell_type": "markdown",
      "metadata": {
        "id": "ENV_A8rHwiZ4"
      },
      "source": [
        "### Class Ratio\n",
        "\n",
        "Plot to see how many credit applications were **accpeted** vs how many were **rejected**."
      ]
    },
    {
      "cell_type": "code",
      "metadata": {
        "colab": {
          "base_uri": "https://localhost:8080/",
          "height": 444
        },
        "id": "R7O9nnhNwiZ4",
        "outputId": "a196bba7-3b24-4b81-f155-b543842d0304"
      },
      "source": [
        "# Compare 0s vs 1s in the class attribute\n",
        "f,ax=plt.subplots(1,2,figsize=(15,7))\n",
        "\n",
        "df['Y'].value_counts().plot.pie(autopct='%1.1f%%',ax=ax[0],shadow=True)\n",
        "\n",
        "ax[0].set_ylabel('')\n",
        "sns.countplot('Y',x=None, y=None, data=df,ax=ax[1])\n",
        "plt.show()"
      ],
      "execution_count": 20,
      "outputs": [
        {
          "output_type": "display_data",
          "data": {
            "image/png": "[encoded data removed]",
            "text/plain": [
              "<Figure size 1080x504 with 2 Axes>"
            ]
          },
          "metadata": {
            "needs_background": "light"
          }
        }
      ]
    },
    {
      "cell_type": "markdown",
      "metadata": {
        "id": "BjrJPiD_wiZ5"
      },
      "source": [
        "### Correlation Matrix\n",
        "\n",
        "Display the correlation coefficients for different attributes. The matrix depicts the correlation between all the possible pairs of values in a table."
      ]
    },
    {
      "cell_type": "code",
      "metadata": {
        "colab": {
          "base_uri": "https://localhost:8080/",
          "height": 496
        },
        "id": "ZttEkVWYwiZ5",
        "outputId": "01174489-bdc5-4082-8cf6-b29f65de5388"
      },
      "source": [
        "# Plot the correlation matrix as a heatmap\n",
        "sns.heatmap(df.corr(),linewidths=.5,annot=True,cmap='RdYlGn')\n",
        "fig=plt.gcf()\n",
        "fig.set_size_inches(15,8)\n",
        "plt.show()"
      ],
      "execution_count": 21,
      "outputs": [
        {
          "output_type": "display_data",
          "data": {
            "image/png": "[encoded data removed]",
            "text/plain": [
              "<Figure size 1080x576 with 2 Axes>"
            ]
          },
          "metadata": {
            "needs_background": "light"
          }
        }
      ]
    },
    {
      "cell_type": "markdown",
      "metadata": {
        "id": "wvpzpdM3wiZ6"
      },
      "source": [
        "### Distribution Plot\n",
        "\n",
        "Make distribution plots for the continuous attributes."
      ]
    },
    {
      "cell_type": "code",
      "metadata": {
        "colab": {
          "base_uri": "https://localhost:8080/",
          "height": 1000
        },
        "id": "D5Aeh6v6wiZ6",
        "outputId": "268083a4-204f-4701-9179-102cf9679c9d"
      },
      "source": [
        "fig, axes = plt.subplots(nrows=3, ncols=2, figsize=(20,18))\n",
        "feature_index = 0\n",
        "for ii in range(3):\n",
        "    for jj in range(2):\n",
        "        ax = sns.distplot(df_cont.iloc[:, feature_index], ax=axes[ii,jj])\n",
        "        ax.set(title=df_cont.columns.values[feature_index], xlabel=\"value\",ylabel=\"density\")      \n",
        "        feature_index += 1\n",
        "plt.show()"
      ],
      "execution_count": 22,
      "outputs": [
        {
          "output_type": "display_data",
          "data": {
            "image/png": "[encoded data removed]",
            "text/plain": [
              "<Figure size 1440x1296 with 6 Axes>"
            ]
          },
          "metadata": {
            "needs_background": "light"
          }
        }
      ]
    },
    {
      "cell_type": "markdown",
      "metadata": {
        "id": "3Z3Snsj8wiZ7"
      },
      "source": [
        "### Normality Test\n",
        "\n",
        "Performs the one-sample Kolmogorov-Smirnov test for goodness of fit.\n",
        "\n",
        "The one-sample test compares the underlying distribution F(x) of a sample against a given distribution G(x)."
      ]
    },
    {
      "cell_type": "code",
      "metadata": {
        "colab": {
          "base_uri": "https://localhost:8080/"
        },
        "id": "NOeUNskZwiZ7",
        "outputId": "7815e0e8-ce75-46c3-fb93-f87506c1f63c"
      },
      "source": [
        "KStestResults= []\n",
        "for ii in range(len(df_cont.columns)):\n",
        "    KStestResults.append(kstest(df.iloc[:,ii], 'norm'))\n",
        "KStestResults"
      ],
      "execution_count": 23,
      "outputs": [
        {
          "output_type": "execute_result",
          "data": {
            "text/plain": [
              "[KstestResult(statistic=0.5196056156337603, pvalue=8.730967774462497e-174),\n",
              " KstestResult(statistic=1.0, pvalue=0.0),\n",
              " KstestResult(statistic=0.6172507697456346, pvalue=1.1406941430897084e-253),\n",
              " KstestResult(statistic=0.8413447460685429, pvalue=0.0),\n",
              " KstestResult(statistic=0.9004382738489223, pvalue=0.0),\n",
              " KstestResult(statistic=0.9073457541422829, pvalue=0.0),\n",
              " KstestResult(statistic=0.5, pvalue=4.910350530309684e-160)]"
            ]
          },
          "metadata": {},
          "execution_count": 23
        }
      ]
    },
    {
      "cell_type": "markdown",
      "metadata": {
        "id": "Qos44ufgwiZ7"
      },
      "source": [
        "### Boxplot\n",
        "\n",
        "Make boxplots for the continuous attributes to get a good indication of how the values in the data are spread out."
      ]
    },
    {
      "cell_type": "code",
      "metadata": {
        "colab": {
          "base_uri": "https://localhost:8080/",
          "height": 1000
        },
        "id": "IlDfxaxKwiZ7",
        "outputId": "136357e8-ad89-4135-f39d-dbf885b40c83"
      },
      "source": [
        "fig, axes = plt.subplots(nrows=3, ncols=2, figsize=(20,18))\n",
        "feature_index = 0\n",
        "for ii in range(3):\n",
        "    for jj in range(2):\n",
        "        ax = sns.boxplot(x=df_cont.Y, y=df_cont.columns.values[feature_index], data=df_cont, ax=axes[ii,jj])\n",
        "        ax.set(title=df_cont.columns.values[feature_index], xlabel=\"class\", ylabel=\"value\")\n",
        "        feature_index += 1\n",
        "plt.show()"
      ],
      "execution_count": 24,
      "outputs": [
        {
          "output_type": "display_data",
          "data": {
            "image/png": "[encoded data removed]",
            "text/plain": [
              "<Figure size 1440x1296 with 6 Axes>"
            ]
          },
          "metadata": {
            "needs_background": "light"
          }
        }
      ]
    },
    {
      "cell_type": "markdown",
      "metadata": {
        "id": "yRR9OrPbwiZ8"
      },
      "source": [
        "### Swarmplot\n",
        "\n",
        "See the spread of Y = 0 and 1 values for the categorial attributes using a swarm plot."
      ]
    },
    {
      "cell_type": "code",
      "metadata": {
        "colab": {
          "base_uri": "https://localhost:8080/",
          "height": 615
        },
        "id": "HZfZ6kmdwiZ8",
        "outputId": "139523a9-7688-4e8f-e4c0-87966cc7f471"
      },
      "source": [
        "dff2=pd.melt(df_cat,id_vars='Y')\n",
        "sns.swarmplot(x=\"variable\", y=\"value\", hue=\"Y\", data=dff2)\n",
        "plt.xticks(rotation=90)\n",
        "fig=plt.gcf()\n",
        "fig.set_size_inches(10,10)\n",
        "plt.show()"
      ],
      "execution_count": 25,
      "outputs": [
        {
          "output_type": "display_data",
          "data": {
            "image/png": "[encoded data removed]",
            "text/plain": [
              "<Figure size 720x720 with 1 Axes>"
            ]
          },
          "metadata": {
            "needs_background": "light"
          }
        }
      ]
    },
    {
      "cell_type": "markdown",
      "metadata": {
        "id": "ZOTD8_b2wiZ9"
      },
      "source": [
        "# **Preprocessing**\n",
        "---\n",
        "\n",
        "We are now ready to preprocess the data before feature and model selection."
      ]
    },
    {
      "cell_type": "code",
      "metadata": {
        "collapsed": true,
        "id": "7Rspq1p2wiZ9"
      },
      "source": [
        "# Drop 'Y' column from df, df_cont and df_cat and then make a new df - y\n",
        "x=df.drop('Y',axis=1)\n",
        "x_cont=df_cont.drop('Y', axis=1)\n",
        "x_cat=df_cat.drop('Y',axis=1)\n",
        "y=df['Y']"
      ],
      "execution_count": 26,
      "outputs": []
    },
    {
      "cell_type": "markdown",
      "metadata": {
        "id": "sILQk3ecwiZ9"
      },
      "source": [
        "### Feature Selection"
      ]
    },
    {
      "cell_type": "code",
      "metadata": {
        "colab": {
          "base_uri": "https://localhost:8080/",
          "height": 281
        },
        "id": "mvzmqFQBwiZ9",
        "outputId": "80f2c156-a3d6-4095-da18-b70abfe989d9"
      },
      "source": [
        "# Decide feature importance using DecisionTreeClassifier\n",
        "pohon=DecisionTreeClassifier(class_weight='balanced',random_state=15)\n",
        "pohom = pohon.fit(x, y)\n",
        "importances=pohon.feature_importances_\n",
        "\n",
        "indices = np.argsort(importances)[::-1]\n",
        "\n",
        "plt.title(\"Feature importances\")\n",
        "plt.bar(range(x.shape[1]), importances[indices],color='lightblue')\n",
        "plt.xticks(range(x.shape[1]), indices)\n",
        "plt.xlim([-1, x.shape[1]])\n",
        "plt.show()"
      ],
      "execution_count": 27,
      "outputs": [
        {
          "output_type": "display_data",
          "data": {
            "image/png": "[encoded data removed]",
            "text/plain": [
              "<Figure size 432x288 with 1 Axes>"
            ]
          },
          "metadata": {
            "needs_background": "light"
          }
        }
      ]
    },
    {
      "cell_type": "code",
      "metadata": {
        "colab": {
          "base_uri": "https://localhost:8080/",
          "height": 201
        },
        "id": "7fycBF45wiZ9",
        "outputId": "c02880fd-4172-497a-9dce-a6afa108b604"
      },
      "source": [
        "pohon.feature_importances_\n",
        "\n",
        "# Meta-transformer for selecting features based on importance weights.\n",
        "# Transforms x to x_new, with attributes based on importance, using median as a thershold.\n",
        "fs = SelectFromModel(pohon, threshold = 'median', prefit=True)\n",
        "x_new = fs.transform(x)\n",
        "\n",
        "x_new=pd.DataFrame(x_new)\n",
        "x_new.head()"
      ],
      "execution_count": 28,
      "outputs": [
        {
          "output_type": "execute_result",
          "data": {
            "text/html": [
              "<div>\n",
              "<style scoped>\n",
              "    .dataframe tbody tr th:only-of-type {\n",
              "        vertical-align: middle;\n",
              "    }\n",
              "\n",
              "    .dataframe tbody tr th {\n",
              "        vertical-align: top;\n",
              "    }\n",
              "\n",
              "    .dataframe thead th {\n",
              "        text-align: right;\n",
              "    }\n",
              "</style>\n",
              "<table border=\"1\" class=\"dataframe\">\n",
              "  <thead>\n",
              "    <tr style=\"text-align: right;\">\n",
              "      <th></th>\n",
              "      <th>0</th>\n",
              "      <th>1</th>\n",
              "      <th>2</th>\n",
              "      <th>3</th>\n",
              "      <th>4</th>\n",
              "      <th>5</th>\n",
              "      <th>6</th>\n",
              "    </tr>\n",
              "  </thead>\n",
              "  <tbody>\n",
              "    <tr>\n",
              "      <th>0</th>\n",
              "      <td>22.08</td>\n",
              "      <td>11.46</td>\n",
              "      <td>4.0</td>\n",
              "      <td>0.0</td>\n",
              "      <td>0.0</td>\n",
              "      <td>100.0</td>\n",
              "      <td>1213.0</td>\n",
              "    </tr>\n",
              "    <tr>\n",
              "      <th>1</th>\n",
              "      <td>22.67</td>\n",
              "      <td>7.00</td>\n",
              "      <td>8.0</td>\n",
              "      <td>0.0</td>\n",
              "      <td>0.0</td>\n",
              "      <td>160.0</td>\n",
              "      <td>1.0</td>\n",
              "    </tr>\n",
              "    <tr>\n",
              "      <th>2</th>\n",
              "      <td>29.58</td>\n",
              "      <td>1.75</td>\n",
              "      <td>4.0</td>\n",
              "      <td>0.0</td>\n",
              "      <td>0.0</td>\n",
              "      <td>280.0</td>\n",
              "      <td>1.0</td>\n",
              "    </tr>\n",
              "    <tr>\n",
              "      <th>3</th>\n",
              "      <td>21.67</td>\n",
              "      <td>11.50</td>\n",
              "      <td>5.0</td>\n",
              "      <td>1.0</td>\n",
              "      <td>1.0</td>\n",
              "      <td>0.0</td>\n",
              "      <td>1.0</td>\n",
              "    </tr>\n",
              "    <tr>\n",
              "      <th>4</th>\n",
              "      <td>20.17</td>\n",
              "      <td>8.17</td>\n",
              "      <td>6.0</td>\n",
              "      <td>1.0</td>\n",
              "      <td>1.0</td>\n",
              "      <td>60.0</td>\n",
              "      <td>159.0</td>\n",
              "    </tr>\n",
              "  </tbody>\n",
              "</table>\n",
              "</div>"
            ],
            "text/plain": [
              "       0      1    2    3    4      5       6\n",
              "0  22.08  11.46  4.0  0.0  0.0  100.0  1213.0\n",
              "1  22.67   7.00  8.0  0.0  0.0  160.0     1.0\n",
              "2  29.58   1.75  4.0  0.0  0.0  280.0     1.0\n",
              "3  21.67  11.50  5.0  1.0  1.0    0.0     1.0\n",
              "4  20.17   8.17  6.0  1.0  1.0   60.0   159.0"
            ]
          },
          "metadata": {},
          "execution_count": 28
        }
      ]
    },
    {
      "cell_type": "markdown",
      "metadata": {
        "id": "3t2LzZx7wiZ-"
      },
      "source": [
        "### Dummy For Categorical Features"
      ]
    },
    {
      "cell_type": "code",
      "metadata": {
        "colab": {
          "base_uri": "https://localhost:8080/",
          "height": 201
        },
        "id": "nBcwnciOwiZ-",
        "outputId": "c98635ce-314d-428a-8b2c-35a8cc83e147"
      },
      "source": [
        "# Create dummies for categorial features.\n",
        "x_dummy=pd.get_dummies(x_new[[2,3,4]], columns=[2,3,4])\n",
        "x_dummy.head()"
      ],
      "execution_count": 29,
      "outputs": [
        {
          "output_type": "execute_result",
          "data": {
            "text/html": [
              "<div>\n",
              "<style scoped>\n",
              "    .dataframe tbody tr th:only-of-type {\n",
              "        vertical-align: middle;\n",
              "    }\n",
              "\n",
              "    .dataframe tbody tr th {\n",
              "        vertical-align: top;\n",
              "    }\n",
              "\n",
              "    .dataframe thead th {\n",
              "        text-align: right;\n",
              "    }\n",
              "</style>\n",
              "<table border=\"1\" class=\"dataframe\">\n",
              "  <thead>\n",
              "    <tr style=\"text-align: right;\">\n",
              "      <th></th>\n",
              "      <th>2_1.0</th>\n",
              "      <th>2_2.0</th>\n",
              "      <th>2_3.0</th>\n",
              "      <th>2_4.0</th>\n",
              "      <th>2_5.0</th>\n",
              "      <th>2_6.0</th>\n",
              "      <th>2_7.0</th>\n",
              "      <th>2_8.0</th>\n",
              "      <th>2_9.0</th>\n",
              "      <th>2_10.0</th>\n",
              "      <th>2_11.0</th>\n",
              "      <th>2_12.0</th>\n",
              "      <th>2_13.0</th>\n",
              "      <th>2_14.0</th>\n",
              "      <th>3_0.0</th>\n",
              "      <th>3_1.0</th>\n",
              "      <th>4_0.0</th>\n",
              "      <th>4_1.0</th>\n",
              "    </tr>\n",
              "  </thead>\n",
              "  <tbody>\n",
              "    <tr>\n",
              "      <th>0</th>\n",
              "      <td>0</td>\n",
              "      <td>0</td>\n",
              "      <td>0</td>\n",
              "      <td>1</td>\n",
              "      <td>0</td>\n",
              "      <td>0</td>\n",
              "      <td>0</td>\n",
              "      <td>0</td>\n",
              "      <td>0</td>\n",
              "      <td>0</td>\n",
              "      <td>0</td>\n",
              "      <td>0</td>\n",
              "      <td>0</td>\n",
              "      <td>0</td>\n",
              "      <td>1</td>\n",
              "      <td>0</td>\n",
              "      <td>1</td>\n",
              "      <td>0</td>\n",
              "    </tr>\n",
              "    <tr>\n",
              "      <th>1</th>\n",
              "      <td>0</td>\n",
              "      <td>0</td>\n",
              "      <td>0</td>\n",
              "      <td>0</td>\n",
              "      <td>0</td>\n",
              "      <td>0</td>\n",
              "      <td>0</td>\n",
              "      <td>1</td>\n",
              "      <td>0</td>\n",
              "      <td>0</td>\n",
              "      <td>0</td>\n",
              "      <td>0</td>\n",
              "      <td>0</td>\n",
              "      <td>0</td>\n",
              "      <td>1</td>\n",
              "      <td>0</td>\n",
              "      <td>1</td>\n",
              "      <td>0</td>\n",
              "    </tr>\n",
              "    <tr>\n",
              "      <th>2</th>\n",
              "      <td>0</td>\n",
              "      <td>0</td>\n",
              "      <td>0</td>\n",
              "      <td>1</td>\n",
              "      <td>0</td>\n",
              "      <td>0</td>\n",
              "      <td>0</td>\n",
              "      <td>0</td>\n",
              "      <td>0</td>\n",
              "      <td>0</td>\n",
              "      <td>0</td>\n",
              "      <td>0</td>\n",
              "      <td>0</td>\n",
              "      <td>0</td>\n",
              "      <td>1</td>\n",
              "      <td>0</td>\n",
              "      <td>1</td>\n",
              "      <td>0</td>\n",
              "    </tr>\n",
              "    <tr>\n",
              "      <th>3</th>\n",
              "      <td>0</td>\n",
              "      <td>0</td>\n",
              "      <td>0</td>\n",
              "      <td>0</td>\n",
              "      <td>1</td>\n",
              "      <td>0</td>\n",
              "      <td>0</td>\n",
              "      <td>0</td>\n",
              "      <td>0</td>\n",
              "      <td>0</td>\n",
              "      <td>0</td>\n",
              "      <td>0</td>\n",
              "      <td>0</td>\n",
              "      <td>0</td>\n",
              "      <td>0</td>\n",
              "      <td>1</td>\n",
              "      <td>0</td>\n",
              "      <td>1</td>\n",
              "    </tr>\n",
              "    <tr>\n",
              "      <th>4</th>\n",
              "      <td>0</td>\n",
              "      <td>0</td>\n",
              "      <td>0</td>\n",
              "      <td>0</td>\n",
              "      <td>0</td>\n",
              "      <td>1</td>\n",
              "      <td>0</td>\n",
              "      <td>0</td>\n",
              "      <td>0</td>\n",
              "      <td>0</td>\n",
              "      <td>0</td>\n",
              "      <td>0</td>\n",
              "      <td>0</td>\n",
              "      <td>0</td>\n",
              "      <td>0</td>\n",
              "      <td>1</td>\n",
              "      <td>0</td>\n",
              "      <td>1</td>\n",
              "    </tr>\n",
              "  </tbody>\n",
              "</table>\n",
              "</div>"
            ],
            "text/plain": [
              "   2_1.0  2_2.0  2_3.0  2_4.0  2_5.0  ...  2_14.0  3_0.0  3_1.0  4_0.0  4_1.0\n",
              "0      0      0      0      1      0  ...       0      1      0      1      0\n",
              "1      0      0      0      0      0  ...       0      1      0      1      0\n",
              "2      0      0      0      1      0  ...       0      1      0      1      0\n",
              "3      0      0      0      0      1  ...       0      0      1      0      1\n",
              "4      0      0      0      0      0  ...       0      0      1      0      1\n",
              "\n",
              "[5 rows x 18 columns]"
            ]
          },
          "metadata": {},
          "execution_count": 29
        }
      ]
    },
    {
      "cell_type": "markdown",
      "metadata": {
        "id": "jhkCaKaCwiZ-"
      },
      "source": [
        "### Normalization\n",
        "\n",
        "Scale input vectors individually to unit norm (vector length)."
      ]
    },
    {
      "cell_type": "code",
      "metadata": {
        "colab": {
          "base_uri": "https://localhost:8080/",
          "height": 201
        },
        "id": "lbTC7be1wiZ-",
        "outputId": "6e4484c2-0b56-415e-c8da-626c57147453"
      },
      "source": [
        "# Perform a row normalization on the conitnuous data\n",
        "x_norm = pd.DataFrame(normalize(x_new[[0,1,5,6]]))\n",
        "x_norm.head()"
      ],
      "execution_count": 30,
      "outputs": [
        {
          "output_type": "execute_result",
          "data": {
            "text/html": [
              "<div>\n",
              "<style scoped>\n",
              "    .dataframe tbody tr th:only-of-type {\n",
              "        vertical-align: middle;\n",
              "    }\n",
              "\n",
              "    .dataframe tbody tr th {\n",
              "        vertical-align: top;\n",
              "    }\n",
              "\n",
              "    .dataframe thead th {\n",
              "        text-align: right;\n",
              "    }\n",
              "</style>\n",
              "<table border=\"1\" class=\"dataframe\">\n",
              "  <thead>\n",
              "    <tr style=\"text-align: right;\">\n",
              "      <th></th>\n",
              "      <th>0</th>\n",
              "      <th>1</th>\n",
              "      <th>2</th>\n",
              "      <th>3</th>\n",
              "    </tr>\n",
              "  </thead>\n",
              "  <tbody>\n",
              "    <tr>\n",
              "      <th>0</th>\n",
              "      <td>0.018137</td>\n",
              "      <td>0.009414</td>\n",
              "      <td>0.082144</td>\n",
              "      <td>0.996411</td>\n",
              "    </tr>\n",
              "    <tr>\n",
              "      <th>1</th>\n",
              "      <td>0.140152</td>\n",
              "      <td>0.043276</td>\n",
              "      <td>0.989164</td>\n",
              "      <td>0.006182</td>\n",
              "    </tr>\n",
              "    <tr>\n",
              "      <th>2</th>\n",
              "      <td>0.105056</td>\n",
              "      <td>0.006215</td>\n",
              "      <td>0.994441</td>\n",
              "      <td>0.003552</td>\n",
              "    </tr>\n",
              "    <tr>\n",
              "      <th>3</th>\n",
              "      <td>0.882589</td>\n",
              "      <td>0.468379</td>\n",
              "      <td>0.000000</td>\n",
              "      <td>0.040729</td>\n",
              "    </tr>\n",
              "    <tr>\n",
              "      <th>4</th>\n",
              "      <td>0.117725</td>\n",
              "      <td>0.047685</td>\n",
              "      <td>0.350198</td>\n",
              "      <td>0.928024</td>\n",
              "    </tr>\n",
              "  </tbody>\n",
              "</table>\n",
              "</div>"
            ],
            "text/plain": [
              "          0         1         2         3\n",
              "0  0.018137  0.009414  0.082144  0.996411\n",
              "1  0.140152  0.043276  0.989164  0.006182\n",
              "2  0.105056  0.006215  0.994441  0.003552\n",
              "3  0.882589  0.468379  0.000000  0.040729\n",
              "4  0.117725  0.047685  0.350198  0.928024"
            ]
          },
          "metadata": {},
          "execution_count": 30
        }
      ]
    },
    {
      "cell_type": "markdown",
      "metadata": {
        "id": "NJhXjd7SwiZ_"
      },
      "source": [
        "### PCA\n",
        "\n",
        "A statistical procedure that uses an orthogonal transformation that converts a set of correlated variables to a set of uncorrelated variables."
      ]
    },
    {
      "cell_type": "code",
      "metadata": {
        "scrolled": true,
        "colab": {
          "base_uri": "https://localhost:8080/",
          "height": 314
        },
        "id": "A6hfPjCuwiZ_",
        "outputId": "9eb113ea-71ea-4992-cf18-19ac0eba4112"
      },
      "source": [
        "from sklearn.decomposition import PCA\n",
        "pca = PCA()\n",
        "pca.fit(x_norm)\n",
        "\n",
        "plt.figure(1, figsize=(8, 5))\n",
        "plt.clf()\n",
        "plt.axes([.2, .2, .7, .7])\n",
        "plt.plot(pca.explained_variance_ratio_, linewidth=2)\n",
        "plt.axis('tight')\n",
        "plt.xlabel('n_components')\n",
        "plt.ylabel('explained_variance_ratio_')\n",
        "plt.show()"
      ],
      "execution_count": 31,
      "outputs": [
        {
          "output_type": "display_data",
          "data": {
            "image/png": "[encoded data removed]",
            "text/plain": [
              "<Figure size 576x360 with 1 Axes>"
            ]
          },
          "metadata": {
            "needs_background": "light"
          }
        }
      ]
    },
    {
      "cell_type": "code",
      "metadata": {
        "collapsed": true,
        "id": "tg3xxcmCwiZ_"
      },
      "source": [
        "pca = PCA(n_components=2)\n",
        "x_pca=pca.fit_transform(x_norm)"
      ],
      "execution_count": 32,
      "outputs": []
    },
    {
      "cell_type": "code",
      "metadata": {
        "colab": {
          "base_uri": "https://localhost:8080/",
          "height": 201
        },
        "id": "VsWz1NgWwiZ_",
        "outputId": "bf4da819-ce3c-460c-a98b-815d8c76732b"
      },
      "source": [
        "x_pca=pd.DataFrame(x_pca)\n",
        "x_pca = pd.concat([x_pca, x_dummy],axis=1)\n",
        "x_pca.head()"
      ],
      "execution_count": 33,
      "outputs": [
        {
          "output_type": "execute_result",
          "data": {
            "text/html": [
              "<div>\n",
              "<style scoped>\n",
              "    .dataframe tbody tr th:only-of-type {\n",
              "        vertical-align: middle;\n",
              "    }\n",
              "\n",
              "    .dataframe tbody tr th {\n",
              "        vertical-align: top;\n",
              "    }\n",
              "\n",
              "    .dataframe thead th {\n",
              "        text-align: right;\n",
              "    }\n",
              "</style>\n",
              "<table border=\"1\" class=\"dataframe\">\n",
              "  <thead>\n",
              "    <tr style=\"text-align: right;\">\n",
              "      <th></th>\n",
              "      <th>0</th>\n",
              "      <th>1</th>\n",
              "      <th>2_1.0</th>\n",
              "      <th>2_2.0</th>\n",
              "      <th>2_3.0</th>\n",
              "      <th>2_4.0</th>\n",
              "      <th>2_5.0</th>\n",
              "      <th>2_6.0</th>\n",
              "      <th>2_7.0</th>\n",
              "      <th>2_8.0</th>\n",
              "      <th>2_9.0</th>\n",
              "      <th>2_10.0</th>\n",
              "      <th>2_11.0</th>\n",
              "      <th>2_12.0</th>\n",
              "      <th>2_13.0</th>\n",
              "      <th>2_14.0</th>\n",
              "      <th>3_0.0</th>\n",
              "      <th>3_1.0</th>\n",
              "      <th>4_0.0</th>\n",
              "      <th>4_1.0</th>\n",
              "    </tr>\n",
              "  </thead>\n",
              "  <tbody>\n",
              "    <tr>\n",
              "      <th>0</th>\n",
              "      <td>0.819294</td>\n",
              "      <td>-0.158148</td>\n",
              "      <td>0</td>\n",
              "      <td>0</td>\n",
              "      <td>0</td>\n",
              "      <td>1</td>\n",
              "      <td>0</td>\n",
              "      <td>0</td>\n",
              "      <td>0</td>\n",
              "      <td>0</td>\n",
              "      <td>0</td>\n",
              "      <td>0</td>\n",
              "      <td>0</td>\n",
              "      <td>0</td>\n",
              "      <td>0</td>\n",
              "      <td>0</td>\n",
              "      <td>1</td>\n",
              "      <td>0</td>\n",
              "      <td>1</td>\n",
              "      <td>0</td>\n",
              "    </tr>\n",
              "    <tr>\n",
              "      <th>1</th>\n",
              "      <td>-0.527039</td>\n",
              "      <td>-0.080555</td>\n",
              "      <td>0</td>\n",
              "      <td>0</td>\n",
              "      <td>0</td>\n",
              "      <td>0</td>\n",
              "      <td>0</td>\n",
              "      <td>0</td>\n",
              "      <td>0</td>\n",
              "      <td>1</td>\n",
              "      <td>0</td>\n",
              "      <td>0</td>\n",
              "      <td>0</td>\n",
              "      <td>0</td>\n",
              "      <td>0</td>\n",
              "      <td>0</td>\n",
              "      <td>1</td>\n",
              "      <td>0</td>\n",
              "      <td>1</td>\n",
              "      <td>0</td>\n",
              "    </tr>\n",
              "    <tr>\n",
              "      <th>2</th>\n",
              "      <td>-0.531070</td>\n",
              "      <td>-0.113969</td>\n",
              "      <td>0</td>\n",
              "      <td>0</td>\n",
              "      <td>0</td>\n",
              "      <td>1</td>\n",
              "      <td>0</td>\n",
              "      <td>0</td>\n",
              "      <td>0</td>\n",
              "      <td>0</td>\n",
              "      <td>0</td>\n",
              "      <td>0</td>\n",
              "      <td>0</td>\n",
              "      <td>0</td>\n",
              "      <td>0</td>\n",
              "      <td>0</td>\n",
              "      <td>1</td>\n",
              "      <td>0</td>\n",
              "      <td>1</td>\n",
              "      <td>0</td>\n",
              "    </tr>\n",
              "    <tr>\n",
              "      <th>3</th>\n",
              "      <td>0.153018</td>\n",
              "      <td>1.001204</td>\n",
              "      <td>0</td>\n",
              "      <td>0</td>\n",
              "      <td>0</td>\n",
              "      <td>0</td>\n",
              "      <td>1</td>\n",
              "      <td>0</td>\n",
              "      <td>0</td>\n",
              "      <td>0</td>\n",
              "      <td>0</td>\n",
              "      <td>0</td>\n",
              "      <td>0</td>\n",
              "      <td>0</td>\n",
              "      <td>0</td>\n",
              "      <td>0</td>\n",
              "      <td>0</td>\n",
              "      <td>1</td>\n",
              "      <td>0</td>\n",
              "      <td>1</td>\n",
              "    </tr>\n",
              "    <tr>\n",
              "      <th>4</th>\n",
              "      <td>0.579835</td>\n",
              "      <td>-0.175551</td>\n",
              "      <td>0</td>\n",
              "      <td>0</td>\n",
              "      <td>0</td>\n",
              "      <td>0</td>\n",
              "      <td>0</td>\n",
              "      <td>1</td>\n",
              "      <td>0</td>\n",
              "      <td>0</td>\n",
              "      <td>0</td>\n",
              "      <td>0</td>\n",
              "      <td>0</td>\n",
              "      <td>0</td>\n",
              "      <td>0</td>\n",
              "      <td>0</td>\n",
              "      <td>0</td>\n",
              "      <td>1</td>\n",
              "      <td>0</td>\n",
              "      <td>1</td>\n",
              "    </tr>\n",
              "  </tbody>\n",
              "</table>\n",
              "</div>"
            ],
            "text/plain": [
              "          0         1  2_1.0  2_2.0  2_3.0  ...  2_14.0  3_0.0  3_1.0  4_0.0  4_1.0\n",
              "0  0.819294 -0.158148      0      0      0  ...       0      1      0      1      0\n",
              "1 -0.527039 -0.080555      0      0      0  ...       0      1      0      1      0\n",
              "2 -0.531070 -0.113969      0      0      0  ...       0      1      0      1      0\n",
              "3  0.153018  1.001204      0      0      0  ...       0      0      1      0      1\n",
              "4  0.579835 -0.175551      0      0      0  ...       0      0      1      0      1\n",
              "\n",
              "[5 rows x 20 columns]"
            ]
          },
          "metadata": {},
          "execution_count": 33
        }
      ]
    },
    {
      "cell_type": "markdown",
      "metadata": {
        "id": "EFeNjx0fwiZ_"
      },
      "source": [
        "# Model"
      ]
    },
    {
      "cell_type": "markdown",
      "metadata": {
        "id": "pf-2MpzXwiZ_"
      },
      "source": [
        "### Repeated Holdout"
      ]
    },
    {
      "cell_type": "code",
      "metadata": {
        "colab": {
          "base_uri": "https://localhost:8080/",
          "height": 293
        },
        "id": "Ikw9U_kPwiaA",
        "outputId": "bfce14fe-5930-47a9-97f1-c04a012a739e"
      },
      "source": [
        "ss = ShuffleSplit(n_splits=10, test_size=0.33,random_state=10)\n",
        "models = []\n",
        "models.append(('CART', DecisionTreeClassifier()))\n",
        "models.append(('KNN', KNeighborsClassifier()))\n",
        "models.append(('Naive Bayes', GaussianNB()))\n",
        "models.append(('SVM', SVC()))\n",
        "models.append(('Random Forest', RandomForestClassifier()))\n",
        "models.append(('Gradient Boosting', GradientBoostingClassifier()))\n",
        "models.append(('Logistic Regression', LogisticRegression()))\n",
        "models.append(('MLP', MLPClassifier (max_iter=1000)))\n",
        "\n",
        "results = []\n",
        "names = []\n",
        "table=[]\n",
        "for name, model in models:\n",
        "    accuracy=cross_val_score(model, x_pca, y, cv=ss)\n",
        "    results.append(accuracy.mean())\n",
        "    names.append(name)\n",
        "table=pd.DataFrame({'Accuracy':results},index=names).sort_values('Accuracy',ascending=False)\n",
        "table"
      ],
      "execution_count": 34,
      "outputs": [
        {
          "output_type": "execute_result",
          "data": {
            "text/html": [
              "<div>\n",
              "<style scoped>\n",
              "    .dataframe tbody tr th:only-of-type {\n",
              "        vertical-align: middle;\n",
              "    }\n",
              "\n",
              "    .dataframe tbody tr th {\n",
              "        vertical-align: top;\n",
              "    }\n",
              "\n",
              "    .dataframe thead th {\n",
              "        text-align: right;\n",
              "    }\n",
              "</style>\n",
              "<table border=\"1\" class=\"dataframe\">\n",
              "  <thead>\n",
              "    <tr style=\"text-align: right;\">\n",
              "      <th></th>\n",
              "      <th>Accuracy</th>\n",
              "    </tr>\n",
              "  </thead>\n",
              "  <tbody>\n",
              "    <tr>\n",
              "      <th>Logistic Regression</th>\n",
              "      <td>0.870614</td>\n",
              "    </tr>\n",
              "    <tr>\n",
              "      <th>SVM</th>\n",
              "      <td>0.864474</td>\n",
              "    </tr>\n",
              "    <tr>\n",
              "      <th>KNN</th>\n",
              "      <td>0.860526</td>\n",
              "    </tr>\n",
              "    <tr>\n",
              "      <th>Gradient Boosting</th>\n",
              "      <td>0.855702</td>\n",
              "    </tr>\n",
              "    <tr>\n",
              "      <th>MLP</th>\n",
              "      <td>0.851754</td>\n",
              "    </tr>\n",
              "    <tr>\n",
              "      <th>Random Forest</th>\n",
              "      <td>0.846930</td>\n",
              "    </tr>\n",
              "    <tr>\n",
              "      <th>Naive Bayes</th>\n",
              "      <td>0.812281</td>\n",
              "    </tr>\n",
              "    <tr>\n",
              "      <th>CART</th>\n",
              "      <td>0.810965</td>\n",
              "    </tr>\n",
              "  </tbody>\n",
              "</table>\n",
              "</div>"
            ],
            "text/plain": [
              "                     Accuracy\n",
              "Logistic Regression  0.870614\n",
              "SVM                  0.864474\n",
              "KNN                  0.860526\n",
              "Gradient Boosting    0.855702\n",
              "MLP                  0.851754\n",
              "Random Forest        0.846930\n",
              "Naive Bayes          0.812281\n",
              "CART                 0.810965"
            ]
          },
          "metadata": {},
          "execution_count": 34
        }
      ]
    },
    {
      "cell_type": "markdown",
      "metadata": {
        "id": "1ySstX-1wiaA"
      },
      "source": [
        "### Stratified Repeated Holdout"
      ]
    },
    {
      "cell_type": "code",
      "metadata": {
        "colab": {
          "base_uri": "https://localhost:8080/",
          "height": 293
        },
        "id": "Xcdt5btfwiaA",
        "outputId": "c09a82a4-ab5f-4495-c7c1-da8079ea8f48"
      },
      "source": [
        "sss = StratifiedShuffleSplit(n_splits=10, test_size=0.33,random_state=11)\n",
        "models = []\n",
        "models.append(('CART', DecisionTreeClassifier()))\n",
        "models.append(('KNN', KNeighborsClassifier()))\n",
        "models.append(('Naive Bayes', GaussianNB()))\n",
        "models.append(('SVM', SVC()))\n",
        "models.append(('Random Forest', RandomForestClassifier()))\n",
        "models.append(('Gradient Boosting', GradientBoostingClassifier()))\n",
        "models.append(('Logistic Regression', LogisticRegression()))\n",
        "models.append(('MLP', MLPClassifier (max_iter=1000)))\n",
        "\n",
        "results = []\n",
        "names = []\n",
        "table=[]\n",
        "for name, model in models:\n",
        "    accuracy=cross_val_score(model, x_pca, y, cv=sss)\n",
        "    results.append(accuracy.mean())\n",
        "    names.append(name)\n",
        "table=pd.DataFrame({'Accuracy':results},index=names).sort_values('Accuracy',ascending=False)\n",
        "table"
      ],
      "execution_count": 35,
      "outputs": [
        {
          "output_type": "execute_result",
          "data": {
            "text/html": [
              "<div>\n",
              "<style scoped>\n",
              "    .dataframe tbody tr th:only-of-type {\n",
              "        vertical-align: middle;\n",
              "    }\n",
              "\n",
              "    .dataframe tbody tr th {\n",
              "        vertical-align: top;\n",
              "    }\n",
              "\n",
              "    .dataframe thead th {\n",
              "        text-align: right;\n",
              "    }\n",
              "</style>\n",
              "<table border=\"1\" class=\"dataframe\">\n",
              "  <thead>\n",
              "    <tr style=\"text-align: right;\">\n",
              "      <th></th>\n",
              "      <th>Accuracy</th>\n",
              "    </tr>\n",
              "  </thead>\n",
              "  <tbody>\n",
              "    <tr>\n",
              "      <th>Logistic Regression</th>\n",
              "      <td>0.856579</td>\n",
              "    </tr>\n",
              "    <tr>\n",
              "      <th>SVM</th>\n",
              "      <td>0.855263</td>\n",
              "    </tr>\n",
              "    <tr>\n",
              "      <th>MLP</th>\n",
              "      <td>0.850439</td>\n",
              "    </tr>\n",
              "    <tr>\n",
              "      <th>KNN</th>\n",
              "      <td>0.849123</td>\n",
              "    </tr>\n",
              "    <tr>\n",
              "      <th>Random Forest</th>\n",
              "      <td>0.848246</td>\n",
              "    </tr>\n",
              "    <tr>\n",
              "      <th>Gradient Boosting</th>\n",
              "      <td>0.843860</td>\n",
              "    </tr>\n",
              "    <tr>\n",
              "      <th>CART</th>\n",
              "      <td>0.803947</td>\n",
              "    </tr>\n",
              "    <tr>\n",
              "      <th>Naive Bayes</th>\n",
              "      <td>0.775439</td>\n",
              "    </tr>\n",
              "  </tbody>\n",
              "</table>\n",
              "</div>"
            ],
            "text/plain": [
              "                     Accuracy\n",
              "Logistic Regression  0.856579\n",
              "SVM                  0.855263\n",
              "MLP                  0.850439\n",
              "KNN                  0.849123\n",
              "Random Forest        0.848246\n",
              "Gradient Boosting    0.843860\n",
              "CART                 0.803947\n",
              "Naive Bayes          0.775439"
            ]
          },
          "metadata": {},
          "execution_count": 35
        }
      ]
    },
    {
      "cell_type": "markdown",
      "metadata": {
        "id": "-NqNM3xPwiaA"
      },
      "source": [
        "### Randomized Kfold"
      ]
    },
    {
      "cell_type": "code",
      "metadata": {
        "colab": {
          "base_uri": "https://localhost:8080/",
          "height": 293
        },
        "id": "bvkX9pZ-wiaB",
        "outputId": "5195d199-2f4e-45f6-f486-e66d9f50bda1"
      },
      "source": [
        "kfold=KFold(n_splits=10, shuffle=True, random_state=12)\n",
        "models = []\n",
        "models.append(('CART', DecisionTreeClassifier()))\n",
        "models.append(('KNN', KNeighborsClassifier()))\n",
        "models.append(('Naive Bayes', GaussianNB()))\n",
        "models.append(('SVM', SVC()))\n",
        "models.append(('Random Forest', RandomForestClassifier()))\n",
        "models.append(('Gradient Boosting', GradientBoostingClassifier()))\n",
        "models.append(('Logistic Regression', LogisticRegression()))\n",
        "models.append(('MLP', MLPClassifier (max_iter=1000)))\n",
        "\n",
        "results = []\n",
        "names = []\n",
        "table=[]\n",
        "for name, model in models:\n",
        "    accuracy=cross_val_score(model, x_pca, y, cv=kfold)\n",
        "    results.append(accuracy.mean())\n",
        "    names.append(name)\n",
        "table=pd.DataFrame({'Accuracy':results},index=names).sort_values('Accuracy',ascending=False)\n",
        "table"
      ],
      "execution_count": 36,
      "outputs": [
        {
          "output_type": "execute_result",
          "data": {
            "text/html": [
              "<div>\n",
              "<style scoped>\n",
              "    .dataframe tbody tr th:only-of-type {\n",
              "        vertical-align: middle;\n",
              "    }\n",
              "\n",
              "    .dataframe tbody tr th {\n",
              "        vertical-align: top;\n",
              "    }\n",
              "\n",
              "    .dataframe thead th {\n",
              "        text-align: right;\n",
              "    }\n",
              "</style>\n",
              "<table border=\"1\" class=\"dataframe\">\n",
              "  <thead>\n",
              "    <tr style=\"text-align: right;\">\n",
              "      <th></th>\n",
              "      <th>Accuracy</th>\n",
              "    </tr>\n",
              "  </thead>\n",
              "  <tbody>\n",
              "    <tr>\n",
              "      <th>Logistic Regression</th>\n",
              "      <td>0.871014</td>\n",
              "    </tr>\n",
              "    <tr>\n",
              "      <th>KNN</th>\n",
              "      <td>0.868116</td>\n",
              "    </tr>\n",
              "    <tr>\n",
              "      <th>SVM</th>\n",
              "      <td>0.868116</td>\n",
              "    </tr>\n",
              "    <tr>\n",
              "      <th>MLP</th>\n",
              "      <td>0.853623</td>\n",
              "    </tr>\n",
              "    <tr>\n",
              "      <th>Gradient Boosting</th>\n",
              "      <td>0.852174</td>\n",
              "    </tr>\n",
              "    <tr>\n",
              "      <th>Random Forest</th>\n",
              "      <td>0.849275</td>\n",
              "    </tr>\n",
              "    <tr>\n",
              "      <th>Naive Bayes</th>\n",
              "      <td>0.821739</td>\n",
              "    </tr>\n",
              "    <tr>\n",
              "      <th>CART</th>\n",
              "      <td>0.801449</td>\n",
              "    </tr>\n",
              "  </tbody>\n",
              "</table>\n",
              "</div>"
            ],
            "text/plain": [
              "                     Accuracy\n",
              "Logistic Regression  0.871014\n",
              "KNN                  0.868116\n",
              "SVM                  0.868116\n",
              "MLP                  0.853623\n",
              "Gradient Boosting    0.852174\n",
              "Random Forest        0.849275\n",
              "Naive Bayes          0.821739\n",
              "CART                 0.801449"
            ]
          },
          "metadata": {},
          "execution_count": 36
        }
      ]
    },
    {
      "cell_type": "markdown",
      "metadata": {
        "id": "pnnqcUkCwiaB"
      },
      "source": [
        "### Stratified Kfold"
      ]
    },
    {
      "cell_type": "code",
      "metadata": {
        "colab": {
          "base_uri": "https://localhost:8080/",
          "height": 293
        },
        "id": "PCjLGpgQwiaB",
        "outputId": "404a1fdf-1921-4650-9e5b-400539dedd2f"
      },
      "source": [
        "skfold=StratifiedKFold(n_splits=10, shuffle=True, random_state=13)\n",
        "models = []\n",
        "models.append(('CART', DecisionTreeClassifier()))\n",
        "models.append(('KNN', KNeighborsClassifier()))\n",
        "models.append(('Naive Bayes', GaussianNB()))\n",
        "models.append(('SVM', SVC()))\n",
        "models.append(('Random Forest', RandomForestClassifier()))\n",
        "models.append(('Gradient Boosting', GradientBoostingClassifier()))\n",
        "models.append(('Logistic Regression', LogisticRegression()))\n",
        "models.append(('MLP', MLPClassifier (max_iter=1000)))\n",
        "\n",
        "results = []\n",
        "names = []\n",
        "table=[]\n",
        "for name, model in models:\n",
        "    accuracy=cross_val_score(model, x_pca, y, cv=skfold)\n",
        "    results.append(accuracy.mean())\n",
        "    names.append(name)\n",
        "table=pd.DataFrame({'Accuracy':results},index=names).sort_values('Accuracy',ascending=False)\n",
        "table"
      ],
      "execution_count": 37,
      "outputs": [
        {
          "output_type": "execute_result",
          "data": {
            "text/html": [
              "<div>\n",
              "<style scoped>\n",
              "    .dataframe tbody tr th:only-of-type {\n",
              "        vertical-align: middle;\n",
              "    }\n",
              "\n",
              "    .dataframe tbody tr th {\n",
              "        vertical-align: top;\n",
              "    }\n",
              "\n",
              "    .dataframe thead th {\n",
              "        text-align: right;\n",
              "    }\n",
              "</style>\n",
              "<table border=\"1\" class=\"dataframe\">\n",
              "  <thead>\n",
              "    <tr style=\"text-align: right;\">\n",
              "      <th></th>\n",
              "      <th>Accuracy</th>\n",
              "    </tr>\n",
              "  </thead>\n",
              "  <tbody>\n",
              "    <tr>\n",
              "      <th>KNN</th>\n",
              "      <td>0.872464</td>\n",
              "    </tr>\n",
              "    <tr>\n",
              "      <th>Logistic Regression</th>\n",
              "      <td>0.869565</td>\n",
              "    </tr>\n",
              "    <tr>\n",
              "      <th>SVM</th>\n",
              "      <td>0.863768</td>\n",
              "    </tr>\n",
              "    <tr>\n",
              "      <th>Gradient Boosting</th>\n",
              "      <td>0.859420</td>\n",
              "    </tr>\n",
              "    <tr>\n",
              "      <th>MLP</th>\n",
              "      <td>0.855072</td>\n",
              "    </tr>\n",
              "    <tr>\n",
              "      <th>Random Forest</th>\n",
              "      <td>0.852174</td>\n",
              "    </tr>\n",
              "    <tr>\n",
              "      <th>Naive Bayes</th>\n",
              "      <td>0.813043</td>\n",
              "    </tr>\n",
              "    <tr>\n",
              "      <th>CART</th>\n",
              "      <td>0.808696</td>\n",
              "    </tr>\n",
              "  </tbody>\n",
              "</table>\n",
              "</div>"
            ],
            "text/plain": [
              "                     Accuracy\n",
              "KNN                  0.872464\n",
              "Logistic Regression  0.869565\n",
              "SVM                  0.863768\n",
              "Gradient Boosting    0.859420\n",
              "MLP                  0.855072\n",
              "Random Forest        0.852174\n",
              "Naive Bayes          0.813043\n",
              "CART                 0.808696"
            ]
          },
          "metadata": {},
          "execution_count": 37
        }
      ]
    },
    {
      "cell_type": "markdown",
      "metadata": {
        "id": "VB5uTz50wiaB"
      },
      "source": [
        "### Leave One Out"
      ]
    },
    {
      "cell_type": "code",
      "metadata": {
        "colab": {
          "base_uri": "https://localhost:8080/",
          "height": 293
        },
        "id": "bAVOVhY0wiaB",
        "outputId": "5c1f3cce-35b9-48a0-87cf-aeee5f49dbed"
      },
      "source": [
        "lvo=LeaveOneOut()\n",
        "models = []\n",
        "models.append(('CART', DecisionTreeClassifier()))\n",
        "models.append(('KNN', KNeighborsClassifier()))\n",
        "models.append(('Naive Bayes', GaussianNB()))\n",
        "models.append(('SVM', SVC()))\n",
        "models.append(('Random Forest', RandomForestClassifier()))\n",
        "models.append(('Gradient Boosting', GradientBoostingClassifier()))\n",
        "models.append(('Logistic Regression', LogisticRegression()))\n",
        "models.append(('MLP', MLPClassifier ()))\n",
        "\n",
        "results = []\n",
        "names = []\n",
        "table=pd.DataFrame({'Accuracy':results},index=names).sort_values('Accuracy',ascending=False)\n",
        "table=[]\n",
        "for name, model in models:\n",
        "    accuracy=cross_val_score(model, x_pca, y, cv=lvo)\n",
        "    results.append(accuracy.mean())\n",
        "    names.append(name)\n",
        "table=pd.DataFrame({'Accuracy':results},index=names).sort_values('Accuracy',ascending=False)\n",
        "table"
      ],
      "execution_count": 38,
      "outputs": [
        {
          "output_type": "execute_result",
          "data": {
            "text/html": [
              "<div>\n",
              "<style scoped>\n",
              "    .dataframe tbody tr th:only-of-type {\n",
              "        vertical-align: middle;\n",
              "    }\n",
              "\n",
              "    .dataframe tbody tr th {\n",
              "        vertical-align: top;\n",
              "    }\n",
              "\n",
              "    .dataframe thead th {\n",
              "        text-align: right;\n",
              "    }\n",
              "</style>\n",
              "<table border=\"1\" class=\"dataframe\">\n",
              "  <thead>\n",
              "    <tr style=\"text-align: right;\">\n",
              "      <th></th>\n",
              "      <th>Accuracy</th>\n",
              "    </tr>\n",
              "  </thead>\n",
              "  <tbody>\n",
              "    <tr>\n",
              "      <th>KNN</th>\n",
              "      <td>0.873913</td>\n",
              "    </tr>\n",
              "    <tr>\n",
              "      <th>SVM</th>\n",
              "      <td>0.873913</td>\n",
              "    </tr>\n",
              "    <tr>\n",
              "      <th>Logistic Regression</th>\n",
              "      <td>0.869565</td>\n",
              "    </tr>\n",
              "    <tr>\n",
              "      <th>MLP</th>\n",
              "      <td>0.859420</td>\n",
              "    </tr>\n",
              "    <tr>\n",
              "      <th>Random Forest</th>\n",
              "      <td>0.856522</td>\n",
              "    </tr>\n",
              "    <tr>\n",
              "      <th>Gradient Boosting</th>\n",
              "      <td>0.855072</td>\n",
              "    </tr>\n",
              "    <tr>\n",
              "      <th>Naive Bayes</th>\n",
              "      <td>0.836232</td>\n",
              "    </tr>\n",
              "    <tr>\n",
              "      <th>CART</th>\n",
              "      <td>0.800000</td>\n",
              "    </tr>\n",
              "  </tbody>\n",
              "</table>\n",
              "</div>"
            ],
            "text/plain": [
              "                     Accuracy\n",
              "KNN                  0.873913\n",
              "SVM                  0.873913\n",
              "Logistic Regression  0.869565\n",
              "MLP                  0.859420\n",
              "Random Forest        0.856522\n",
              "Gradient Boosting    0.855072\n",
              "Naive Bayes          0.836232\n",
              "CART                 0.800000"
            ]
          },
          "metadata": {},
          "execution_count": 38
        }
      ]
    },
    {
      "cell_type": "markdown",
      "metadata": {
        "id": "sQkVLYFywiaC"
      },
      "source": [
        "# Parameter Tuning"
      ]
    },
    {
      "cell_type": "markdown",
      "metadata": {
        "id": "sh9fs7Z_wiaC"
      },
      "source": [
        "### Decision Tree"
      ]
    },
    {
      "cell_type": "code",
      "metadata": {
        "colab": {
          "base_uri": "https://localhost:8080/"
        },
        "id": "LkqsXy2qwiaC",
        "outputId": "d0f88748-bf68-4d79-b016-298c0afe86a3"
      },
      "source": [
        "parameter={\n",
        "    'max_depth': [None, 2, 3, 4, 5, 6, 7],\n",
        "    'min_samples_split' : np.arange(2,202,20),\n",
        "    'min_samples_leaf' : np.arange(1,201,20),\n",
        "    'max_leaf_nodes': (None, 2, 5, 10, 20, 50),\n",
        "    'class_weight': ['balanced', None]\n",
        "}\n",
        "grid=GridSearchCV(DecisionTreeClassifier(), parameter, verbose=1, n_jobs=-1)\n",
        "gridfit=grid.fit(x_pca,y)\n",
        "gridfit.best_params_"
      ],
      "execution_count": 39,
      "outputs": [
        {
          "output_type": "stream",
          "name": "stdout",
          "text": [
            "Fitting 5 folds for each of 8400 candidates, totalling 42000 fits\n"
          ]
        },
        {
          "output_type": "execute_result",
          "data": {
            "text/plain": [
              "{'class_weight': 'balanced',\n",
              " 'max_depth': None,\n",
              " 'max_leaf_nodes': None,\n",
              " 'min_samples_leaf': 21,\n",
              " 'min_samples_split': 2}"
            ]
          },
          "metadata": {},
          "execution_count": 39
        }
      ]
    },
    {
      "cell_type": "markdown",
      "metadata": {
        "id": "74OR8mKPwiaC"
      },
      "source": [
        "### SVM"
      ]
    },
    {
      "cell_type": "code",
      "metadata": {
        "colab": {
          "base_uri": "https://localhost:8080/"
        },
        "id": "fTq3BNhuwiaC",
        "outputId": "e5c8451c-fe80-42f5-d0e7-72e3861b7f4d"
      },
      "source": [
        "parameter = [\n",
        "  {'C': [0.001, 0.01, 0.1, 1, 10], 'kernel': ['linear']},\n",
        "  {'C': [0.001, 0.01, 0.1, 1, 10], 'gamma': [ 0.01, 1], 'kernel': ['rbf','poly']},\n",
        " ]\n",
        "grid=GridSearchCV(SVC(cache_size=1000), parameter, verbose=1, n_jobs=-1)\n",
        "gridfit=grid.fit(x_pca,y)\n",
        "gridfit.best_params_"
      ],
      "execution_count": 40,
      "outputs": [
        {
          "output_type": "stream",
          "name": "stdout",
          "text": [
            "Fitting 5 folds for each of 25 candidates, totalling 125 fits\n"
          ]
        },
        {
          "output_type": "execute_result",
          "data": {
            "text/plain": [
              "{'C': 0.01, 'gamma': 1, 'kernel': 'poly'}"
            ]
          },
          "metadata": {},
          "execution_count": 40
        }
      ]
    },
    {
      "cell_type": "markdown",
      "metadata": {
        "id": "ofpBMUwGwiaC"
      },
      "source": [
        "### Logistic Regression"
      ]
    },
    {
      "cell_type": "code",
      "metadata": {
        "colab": {
          "base_uri": "https://localhost:8080/"
        },
        "id": "x1sEJRtpwiaD",
        "outputId": "ce51b621-01e7-4629-d53a-0ebc7989f9bc"
      },
      "source": [
        "parameter={\n",
        "    'penalty': ['l1', 'l2'],\n",
        "    'C': [0.1, 0.3, 0.5, 0.8,1],\n",
        "    'class_weight':['balanced', None]\n",
        "    }\n",
        "grid=GridSearchCV(LogisticRegression(), parameter,n_jobs=-1, verbose=1)\n",
        "gridfit=grid.fit(x_pca,y)\n",
        "gridfit.best_params_"
      ],
      "execution_count": 41,
      "outputs": [
        {
          "output_type": "stream",
          "name": "stdout",
          "text": [
            "Fitting 5 folds for each of 20 candidates, totalling 100 fits\n"
          ]
        },
        {
          "output_type": "execute_result",
          "data": {
            "text/plain": [
              "{'C': 0.3, 'class_weight': None, 'penalty': 'l2'}"
            ]
          },
          "metadata": {},
          "execution_count": 41
        }
      ]
    },
    {
      "cell_type": "markdown",
      "metadata": {
        "id": "C_qaxZ78wiaD"
      },
      "source": [
        "### Random Forest"
      ]
    },
    {
      "cell_type": "code",
      "metadata": {
        "colab": {
          "base_uri": "https://localhost:8080/"
        },
        "id": "G9izH2Z5wiaD",
        "outputId": "1bc6c208-fafd-4221-bd6c-d772f93f57d0"
      },
      "source": [
        "parameter={\n",
        "    'max_depth': [2,3,5,7,10,None],\n",
        "    'min_samples_leaf': [1,10,30,60],\n",
        "    'max_features': [1.0,'log2','sqrt','auto',None],\n",
        "    'n_estimators': [1,2,3,5,10]\n",
        "    }\n",
        "grid=GridSearchCV(RandomForestClassifier(), parameter,n_jobs=-1, verbose=1)\n",
        "gridfit=grid.fit(x_pca,y)\n",
        "gridfit.best_params_"
      ],
      "execution_count": 42,
      "outputs": [
        {
          "output_type": "stream",
          "name": "stdout",
          "text": [
            "Fitting 5 folds for each of 600 candidates, totalling 3000 fits\n"
          ]
        },
        {
          "output_type": "execute_result",
          "data": {
            "text/plain": [
              "{'max_depth': 5,\n",
              " 'max_features': 1.0,\n",
              " 'min_samples_leaf': 10,\n",
              " 'n_estimators': 10}"
            ]
          },
          "metadata": {},
          "execution_count": 42
        }
      ]
    },
    {
      "cell_type": "markdown",
      "metadata": {
        "id": "8aACl6_pwiaD"
      },
      "source": [
        "### Gradient Boosting"
      ]
    },
    {
      "cell_type": "code",
      "metadata": {
        "colab": {
          "base_uri": "https://localhost:8080/"
        },
        "id": "qD5qnHEtwiaD",
        "outputId": "51ef3d00-24a2-4139-dfd8-29a29ae0358b"
      },
      "source": [
        "parameter={\n",
        "    'learning_rate': [0.01, 0.03, 0.05, 0.1,1],\n",
        "    'max_depth': [2,3,5,7,10,100],\n",
        "    'min_samples_leaf': [1,10,30,60,100,200],\n",
        "    'max_features': ['log2','sqrt','auto',None],\n",
        "    'n_estimators': [1,2,3,10,50,100]\n",
        "    }\n",
        "grid=GridSearchCV(GradientBoostingClassifier(), parameter,n_jobs=-1, verbose=1)\n",
        "gridfit=grid.fit(x_pca,y)\n",
        "gridfit.best_params_"
      ],
      "execution_count": 43,
      "outputs": [
        {
          "output_type": "stream",
          "name": "stdout",
          "text": [
            "Fitting 5 folds for each of 4320 candidates, totalling 21600 fits\n"
          ]
        },
        {
          "output_type": "execute_result",
          "data": {
            "text/plain": [
              "{'learning_rate': 1,\n",
              " 'max_depth': 2,\n",
              " 'max_features': 'auto',\n",
              " 'min_samples_leaf': 100,\n",
              " 'n_estimators': 10}"
            ]
          },
          "metadata": {},
          "execution_count": 43
        }
      ]
    },
    {
      "cell_type": "markdown",
      "metadata": {
        "id": "xXhrUBBAwiaD"
      },
      "source": [
        "### KNN"
      ]
    },
    {
      "cell_type": "code",
      "metadata": {
        "colab": {
          "base_uri": "https://localhost:8080/"
        },
        "id": "VuoGKlgYwiaE",
        "outputId": "f2c36ab0-4fdd-4477-c99c-3d9ef67268a9"
      },
      "source": [
        "parameter={\n",
        "    'n_neighbors': [5,10,20,50,100], \n",
        "    'weights': ['uniform','distance']\n",
        "    }\n",
        "grid=GridSearchCV(KNeighborsClassifier(), parameter,n_jobs=-1,verbose=1)\n",
        "gridfit=grid.fit(x_pca,y)\n",
        "gridfit.best_params_"
      ],
      "execution_count": 44,
      "outputs": [
        {
          "output_type": "stream",
          "name": "stdout",
          "text": [
            "Fitting 5 folds for each of 10 candidates, totalling 50 fits\n"
          ]
        },
        {
          "output_type": "execute_result",
          "data": {
            "text/plain": [
              "{'n_neighbors': 5, 'weights': 'uniform'}"
            ]
          },
          "metadata": {},
          "execution_count": 44
        }
      ]
    },
    {
      "cell_type": "markdown",
      "metadata": {
        "id": "ZfNlSgZowiaE"
      },
      "source": [
        "### MLP"
      ]
    },
    {
      "cell_type": "code",
      "metadata": {
        "colab": {
          "base_uri": "https://localhost:8080/"
        },
        "id": "jbvFiUXqwiaE",
        "outputId": "0bedabc3-9b0a-4aaa-ba41-597920aba04a"
      },
      "source": [
        "parameter={\n",
        "    'activation': ['identity', 'logistic', 'tanh', 'relu'],\n",
        "    'alpha': [0.0001, 0.001, 0.01, 0.1],\n",
        "    'learning_rate': ['constant', 'invscaling', 'adaptive'],\n",
        "    'learning_rate_init': [0.001, 0.01, 0.1]\n",
        "    }\n",
        "grid=GridSearchCV(MLPClassifier(max_iter=1000), parameter,n_jobs=-1, verbose=1)\n",
        "gridfit=grid.fit(x_pca,y)\n",
        "gridfit.best_params_"
      ],
      "execution_count": 45,
      "outputs": [
        {
          "output_type": "stream",
          "name": "stdout",
          "text": [
            "Fitting 5 folds for each of 144 candidates, totalling 720 fits\n"
          ]
        },
        {
          "output_type": "execute_result",
          "data": {
            "text/plain": [
              "{'activation': 'identity',\n",
              " 'alpha': 0.1,\n",
              " 'learning_rate': 'constant',\n",
              " 'learning_rate_init': 0.001}"
            ]
          },
          "metadata": {},
          "execution_count": 45
        }
      ]
    },
    {
      "cell_type": "code",
      "metadata": {
        "id": "nbL0QvrLNhRj"
      },
      "source": [
        "from sklearn.model_selection import train_test_split\n",
        "X_train, X_test, y_train, y_test = train_test_split(x_pca, y, test_size=0.3, random_state=42)"
      ],
      "execution_count": 46,
      "outputs": []
    },
    {
      "cell_type": "code",
      "metadata": {
        "colab": {
          "base_uri": "https://localhost:8080/"
        },
        "id": "-iRdnLzTNkcd",
        "outputId": "fe75cb90-f3c1-4cbe-dd04-651e9693b929"
      },
      "source": [
        "# Sanity check for the sampled data\n",
        "print(X_train.shape)\n",
        "print(y_train.shape)\n",
        "print(X_test.shape)\n",
        "print(y_test.shape)"
      ],
      "execution_count": 47,
      "outputs": [
        {
          "output_type": "stream",
          "name": "stdout",
          "text": [
            "(483, 20)\n",
            "(483,)\n",
            "(207, 20)\n",
            "(207,)\n"
          ]
        }
      ]
    },
    {
      "cell_type": "markdown",
      "metadata": {
        "id": "Aw7dIzhqM7mQ"
      },
      "source": [
        "## **Classifier 1 - Decision Tree Classifier**"
      ]
    },
    {
      "cell_type": "code",
      "metadata": {
        "id": "zuUDR8YCNDcU"
      },
      "source": [
        "clf = DecisionTreeClassifier(class_weight='balanced', max_depth=None, max_leaf_nodes=None, min_samples_leaf=21, min_samples_split=2)\n",
        "dtree=clf.fit(X_train,y_train)\n",
        "prediction=dtree.predict(X_test)"
      ],
      "execution_count": 50,
      "outputs": []
    },
    {
      "cell_type": "code",
      "metadata": {
        "colab": {
          "base_uri": "https://localhost:8080/"
        },
        "id": "-zDuONlcNO_z",
        "outputId": "da71a6f3-680d-4c36-fee6-f5bc351cb273"
      },
      "source": [
        "# Measuring accuracy on Testing Data\n",
        "from sklearn import metrics\n",
        "print(metrics.classification_report(y_test, prediction))\n",
        "print(metrics.confusion_matrix(y_test, prediction))\n",
        "\n",
        "# the Overall Accuracy of the model\n",
        "F1_Score=metrics.f1_score(y_test, prediction, average='weighted')\n",
        "print('Accuracy of the model on Testing Sample Data:', round(F1_Score,2))"
      ],
      "execution_count": 51,
      "outputs": [
        {
          "output_type": "stream",
          "name": "stdout",
          "text": [
            "              precision    recall  f1-score   support\n",
            "\n",
            "           0       0.89      0.89      0.89       126\n",
            "           1       0.83      0.83      0.83        81\n",
            "\n",
            "    accuracy                           0.86       207\n",
            "   macro avg       0.86      0.86      0.86       207\n",
            "weighted avg       0.86      0.86      0.86       207\n",
            "\n",
            "[[112  14]\n",
            " [ 14  67]]\n",
            "Accuracy of the model on Testing Sample Data: 0.86\n"
          ]
        }
      ]
    },
    {
      "cell_type": "code",
      "metadata": {
        "colab": {
          "base_uri": "https://localhost:8080/"
        },
        "id": "RMrzW3TVNQXS",
        "outputId": "6065660d-b3c3-4e18-df33-b79a87216ecd"
      },
      "source": [
        "# Importing cross validation function from sklearn\n",
        "from sklearn.model_selection import cross_val_score\n",
        "\n",
        "# Running Cross validation\n",
        "\n",
        "Accuracy_Values=cross_val_score(dtree, x_pca , y, cv=10, scoring='f1_weighted')\n",
        "print('\\nAccuracy values for 10-fold Cross Validation:\\n',Accuracy_Values)\n",
        "print('\\nFinal Average Accuracy of the model:', round(Accuracy_Values.mean(),2))"
      ],
      "execution_count": 55,
      "outputs": [
        {
          "output_type": "stream",
          "name": "stdout",
          "text": [
            "\n",
            "Accuracy values for 10-fold Cross Validation:\n",
            " [0.870115   0.8977597  0.86978738 0.89867955 0.89837793 0.92706983\n",
            " 0.78306569 0.81199026 0.94215139 0.78315847]\n",
            "\n",
            "Final Average Accuracy of the model: 0.87\n"
          ]
        }
      ]
    },
    {
      "cell_type": "code",
      "metadata": {
        "colab": {
          "base_uri": "https://localhost:8080/"
        },
        "id": "mVuE71RUNTkN",
        "outputId": "a9aab790-9c1e-4469-f343-34d7714ee2c2"
      },
      "source": [
        "#Calculating roc_auc_score\n",
        "from sklearn.metrics import roc_auc_score\n",
        "roc_auc_score(y_test ,prediction) "
      ],
      "execution_count": 53,
      "outputs": [
        {
          "output_type": "execute_result",
          "data": {
            "text/plain": [
              "0.8580246913580247"
            ]
          },
          "metadata": {},
          "execution_count": 53
        }
      ]
    },
    {
      "cell_type": "code",
      "metadata": {
        "colab": {
          "base_uri": "https://localhost:8080/",
          "height": 265
        },
        "id": "3XypQu9uNXw6",
        "outputId": "f4808226-a8f2-4bcf-84f5-39e73c95a09f"
      },
      "source": [
        "from sklearn.metrics import roc_curve\n",
        "pred_proba = clf.predict_proba(X_test)[::,1]\n",
        "fpr, tpr, _ = roc_curve(y_test,  prediction)\n",
        "auc = roc_auc_score(y_test, prediction)\n",
        "plt.plot(fpr,tpr,label=\"data 1, auc=\"+str(auc))\n",
        "plt.legend(loc=4)\n",
        "plt.show()"
      ],
      "execution_count": 54,
      "outputs": [
        {
          "output_type": "display_data",
          "data": {
            "image/png": "[encoded data removed]",
            "text/plain": [
              "<Figure size 432x288 with 1 Axes>"
            ]
          },
          "metadata": {
            "needs_background": "light"
          }
        }
      ]
    },
    {
      "cell_type": "markdown",
      "metadata": {
        "id": "sw-KiOqNZNBs"
      },
      "source": [
        "## **Classifier 2 - KNeighboursClassifier**\n",
        "\n"
      ]
    },
    {
      "cell_type": "code",
      "metadata": {
        "id": "HnXKbGIrZNBt"
      },
      "source": [
        "clf = KNeighborsClassifier(n_neighbors=20, weights='uniform')\n",
        "model=clf.fit(X_train,y_train)\n",
        "prediction=model.predict(X_test)"
      ],
      "execution_count": 56,
      "outputs": []
    },
    {
      "cell_type": "code",
      "metadata": {
        "colab": {
          "base_uri": "https://localhost:8080/"
        },
        "id": "gNFAhxlxZNBu",
        "outputId": "38c59782-0dee-497a-90d9-e942deb4d205"
      },
      "source": [
        "# Measuring accuracy on Testing Data\n",
        "from sklearn import metrics\n",
        "print(metrics.classification_report(y_test, prediction))\n",
        "print(metrics.confusion_matrix(y_test, prediction))\n",
        "\n",
        "# the Overall Accuracy of the model\n",
        "F1_Score=metrics.f1_score(y_test, prediction, average='weighted')\n",
        "print('Accuracy of the model on Testing Sample Data:', round(F1_Score,2))"
      ],
      "execution_count": 57,
      "outputs": [
        {
          "output_type": "stream",
          "name": "stdout",
          "text": [
            "              precision    recall  f1-score   support\n",
            "\n",
            "           0       0.90      0.92      0.91       126\n",
            "           1       0.87      0.84      0.86        81\n",
            "\n",
            "    accuracy                           0.89       207\n",
            "   macro avg       0.89      0.88      0.88       207\n",
            "weighted avg       0.89      0.89      0.89       207\n",
            "\n",
            "[[116  10]\n",
            " [ 13  68]]\n",
            "Accuracy of the model on Testing Sample Data: 0.89\n"
          ]
        }
      ]
    },
    {
      "cell_type": "code",
      "metadata": {
        "colab": {
          "base_uri": "https://localhost:8080/"
        },
        "id": "QP1UNXEfZNBv",
        "outputId": "05ff22ac-56bb-490f-b041-d27a23ac8e5f"
      },
      "source": [
        "# Importing cross validation function from sklearn\n",
        "from sklearn.model_selection import cross_val_score\n",
        "\n",
        "# Running Cross validation\n",
        "\n",
        "Accuracy_Values=cross_val_score(model, x_pca , y, cv=10, scoring='f1_weighted')\n",
        "print('\\nAccuracy values for 10-fold Cross Validation:\\n',Accuracy_Values)\n",
        "print('\\nFinal Average Accuracy of the model:', round(Accuracy_Values.mean(),2))"
      ],
      "execution_count": 59,
      "outputs": [
        {
          "output_type": "stream",
          "name": "stdout",
          "text": [
            "\n",
            "Accuracy values for 10-fold Cross Validation:\n",
            " [0.87006211 0.92697121 0.81231194 0.88361204 0.88295852 0.91221889\n",
            " 0.79752987 0.85507246 0.88405797 0.81038155]\n",
            "\n",
            "Final Average Accuracy of the model: 0.86\n"
          ]
        }
      ]
    },
    {
      "cell_type": "code",
      "metadata": {
        "colab": {
          "base_uri": "https://localhost:8080/"
        },
        "id": "kUOzKsmwZNBv",
        "outputId": "7b4845c6-fe5c-48d0-bcec-fd7d3fa7d532"
      },
      "source": [
        "#Calculating roc_auc_score\n",
        "from sklearn.metrics import roc_auc_score\n",
        "roc_auc_score(y_test ,prediction) "
      ],
      "execution_count": 58,
      "outputs": [
        {
          "output_type": "execute_result",
          "data": {
            "text/plain": [
              "0.8800705467372134"
            ]
          },
          "metadata": {},
          "execution_count": 58
        }
      ]
    },
    {
      "cell_type": "code",
      "metadata": {
        "colab": {
          "base_uri": "https://localhost:8080/",
          "height": 265
        },
        "id": "7LXPjKwmZNBw",
        "outputId": "0b5f23ed-c2ed-47ce-da8b-68b7c57431f2"
      },
      "source": [
        "from sklearn.metrics import roc_curve\n",
        "pred_proba = clf.predict_proba(X_test)[::,1]\n",
        "fpr, tpr, _ = roc_curve(y_test,  prediction)\n",
        "auc = roc_auc_score(y_test, prediction)\n",
        "plt.plot(fpr,tpr,label=\"data 1, auc=\"+str(auc))\n",
        "plt.legend(loc=4)\n",
        "plt.show()"
      ],
      "execution_count": 60,
      "outputs": [
        {
          "output_type": "display_data",
          "data": {
            "image/png": "[encoded data removed]",
            "text/plain": [
              "<Figure size 432x288 with 1 Axes>"
            ]
          },
          "metadata": {
            "needs_background": "light"
          }
        }
      ]
    },
    {
      "cell_type": "markdown",
      "metadata": {
        "id": "ocXZUpo8aB53"
      },
      "source": [
        "## **Classifier 3 - Gaussian Naive Bayes**\n",
        "\n"
      ]
    },
    {
      "cell_type": "code",
      "metadata": {
        "id": "IH-dLIXBaB6C"
      },
      "source": [
        "clf = GaussianNB()\n",
        "model=clf.fit(X_train,y_train)\n",
        "prediction=model.predict(X_test)"
      ],
      "execution_count": 61,
      "outputs": []
    },
    {
      "cell_type": "code",
      "metadata": {
        "colab": {
          "base_uri": "https://localhost:8080/"
        },
        "id": "BzNFhSFZaB6C",
        "outputId": "d5b325e1-5382-4c1e-be83-16835081c86c"
      },
      "source": [
        "# Measuring accuracy on Testing Data\n",
        "from sklearn import metrics\n",
        "print(metrics.classification_report(y_test, prediction))\n",
        "print(metrics.confusion_matrix(y_test, prediction))\n",
        "\n",
        "# the Overall Accuracy of the model\n",
        "F1_Score=metrics.f1_score(y_test, prediction, average='weighted')\n",
        "print('Accuracy of the model on Testing Sample Data:', round(F1_Score,2))"
      ],
      "execution_count": 62,
      "outputs": [
        {
          "output_type": "stream",
          "name": "stdout",
          "text": [
            "              precision    recall  f1-score   support\n",
            "\n",
            "           0       0.86      0.90      0.88       126\n",
            "           1       0.84      0.78      0.81        81\n",
            "\n",
            "    accuracy                           0.86       207\n",
            "   macro avg       0.85      0.84      0.85       207\n",
            "weighted avg       0.85      0.86      0.85       207\n",
            "\n",
            "[[114  12]\n",
            " [ 18  63]]\n",
            "Accuracy of the model on Testing Sample Data: 0.85\n"
          ]
        }
      ]
    },
    {
      "cell_type": "code",
      "metadata": {
        "colab": {
          "base_uri": "https://localhost:8080/"
        },
        "id": "krNOeF7WaB6C",
        "outputId": "55ffa4fd-9d16-49c5-a134-1189c3e5a59f"
      },
      "source": [
        "# Importing cross validation function from sklearn\n",
        "from sklearn.model_selection import cross_val_score\n",
        "\n",
        "# Running Cross validation\n",
        "\n",
        "Accuracy_Values=cross_val_score(model, x_pca , y, cv=10, scoring='f1_weighted')\n",
        "print('\\nAccuracy values for 10-fold Cross Validation:\\n',Accuracy_Values)\n",
        "print('\\nFinal Average Accuracy of the model:', round(Accuracy_Values.mean(),2))"
      ],
      "execution_count": 63,
      "outputs": [
        {
          "output_type": "stream",
          "name": "stdout",
          "text": [
            "\n",
            "Accuracy values for 10-fold Cross Validation:\n",
            " [0.86978738 0.92642507 0.76909518 0.83850797 0.85507246 0.89837793\n",
            " 0.69629196 0.72921366 0.78306569 0.82608696]\n",
            "\n",
            "Final Average Accuracy of the model: 0.82\n"
          ]
        }
      ]
    },
    {
      "cell_type": "code",
      "metadata": {
        "colab": {
          "base_uri": "https://localhost:8080/"
        },
        "id": "70glx_RraB6C",
        "outputId": "a5397697-ac30-4bd3-9128-40b9a7722509"
      },
      "source": [
        "#Calculating roc_auc_score\n",
        "from sklearn.metrics import roc_auc_score\n",
        "roc_auc_score(y_test ,prediction) "
      ],
      "execution_count": 64,
      "outputs": [
        {
          "output_type": "execute_result",
          "data": {
            "text/plain": [
              "0.8412698412698412"
            ]
          },
          "metadata": {},
          "execution_count": 64
        }
      ]
    },
    {
      "cell_type": "code",
      "metadata": {
        "colab": {
          "base_uri": "https://localhost:8080/",
          "height": 265
        },
        "id": "5nKooph7aB6D",
        "outputId": "a5c31c9d-dca3-4bf4-83dd-2d7338fce69f"
      },
      "source": [
        "from sklearn.metrics import roc_curve\n",
        "pred_proba = clf.predict_proba(X_test)[::,1]\n",
        "fpr, tpr, _ = roc_curve(y_test,  prediction)\n",
        "auc = roc_auc_score(y_test, prediction)\n",
        "plt.plot(fpr,tpr,label=\"data 1, auc=\"+str(auc))\n",
        "plt.legend(loc=4)\n",
        "plt.show()"
      ],
      "execution_count": 65,
      "outputs": [
        {
          "output_type": "display_data",
          "data": {
            "image/png": "[encoded data removed]",
            "text/plain": [
              "<Figure size 432x288 with 1 Axes>"
            ]
          },
          "metadata": {
            "needs_background": "light"
          }
        }
      ]
    },
    {
      "cell_type": "markdown",
      "metadata": {
        "id": "2B9hQzUxaaK0"
      },
      "source": [
        "## **Classifier 4 - Support Vector Machines**\n",
        "\n"
      ]
    },
    {
      "cell_type": "code",
      "metadata": {
        "id": "XNM-BFcsaaK1"
      },
      "source": [
        "clf = SVC(C=0.01,kernel='linear', probability=True)\n",
        "model=clf.fit(X_train,y_train)\n",
        "prediction=model.predict(X_test)"
      ],
      "execution_count": 72,
      "outputs": []
    },
    {
      "cell_type": "code",
      "metadata": {
        "colab": {
          "base_uri": "https://localhost:8080/"
        },
        "id": "AdC0kQhHaaK2",
        "outputId": "62399618-ea70-4617-8880-d33266086569"
      },
      "source": [
        "# Measuring accuracy on Testing Data\n",
        "from sklearn import metrics\n",
        "print(metrics.classification_report(y_test, prediction))\n",
        "print(metrics.confusion_matrix(y_test, prediction))\n",
        "\n",
        "# the Overall Accuracy of the model\n",
        "F1_Score=metrics.f1_score(y_test, prediction, average='weighted')\n",
        "print('Accuracy of the model on Testing Sample Data:', round(F1_Score,2))"
      ],
      "execution_count": 73,
      "outputs": [
        {
          "output_type": "stream",
          "name": "stdout",
          "text": [
            "              precision    recall  f1-score   support\n",
            "\n",
            "           0       0.94      0.81      0.87       126\n",
            "           1       0.76      0.91      0.83        81\n",
            "\n",
            "    accuracy                           0.85       207\n",
            "   macro avg       0.85      0.86      0.85       207\n",
            "weighted avg       0.87      0.85      0.85       207\n",
            "\n",
            "[[102  24]\n",
            " [  7  74]]\n",
            "Accuracy of the model on Testing Sample Data: 0.85\n"
          ]
        }
      ]
    },
    {
      "cell_type": "code",
      "metadata": {
        "colab": {
          "base_uri": "https://localhost:8080/"
        },
        "id": "I1g03IESaaK3",
        "outputId": "3d07a0d4-2903-497b-86ef-04c140469bca"
      },
      "source": [
        "# Importing cross validation function from sklearn\n",
        "from sklearn.model_selection import cross_val_score\n",
        "\n",
        "# Running Cross validation\n",
        "\n",
        "Accuracy_Values=cross_val_score(model, x_pca , y, cv=10, scoring='f1_weighted')\n",
        "print('\\nAccuracy values for 10-fold Cross Validation:\\n',Accuracy_Values)\n",
        "print('\\nFinal Average Accuracy of the model:', round(Accuracy_Values.mean(),2))"
      ],
      "execution_count": 74,
      "outputs": [
        {
          "output_type": "stream",
          "name": "stdout",
          "text": [
            "\n",
            "Accuracy values for 10-fold Cross Validation:\n",
            " [0.85562143 0.91304348 0.76850566 0.86983941 0.88420412 0.89867955\n",
            " 0.79582052 0.81199026 0.91315309 0.84057971]\n",
            "\n",
            "Final Average Accuracy of the model: 0.86\n"
          ]
        }
      ]
    },
    {
      "cell_type": "code",
      "metadata": {
        "colab": {
          "base_uri": "https://localhost:8080/"
        },
        "id": "dHqEdI-KaaK3",
        "outputId": "cbc8feca-1b45-4576-d4b9-525866bcca80"
      },
      "source": [
        "#Calculating roc_auc_score\n",
        "from sklearn.metrics import roc_auc_score\n",
        "roc_auc_score(y_test ,prediction) "
      ],
      "execution_count": 75,
      "outputs": [
        {
          "output_type": "execute_result",
          "data": {
            "text/plain": [
              "0.8615520282186949"
            ]
          },
          "metadata": {},
          "execution_count": 75
        }
      ]
    },
    {
      "cell_type": "code",
      "metadata": {
        "colab": {
          "base_uri": "https://localhost:8080/",
          "height": 265
        },
        "id": "9MjeGEdnaaK4",
        "outputId": "07599d6c-e765-47a5-8960-c1c1cab675ca"
      },
      "source": [
        "from sklearn.metrics import roc_curve\n",
        "pred_proba = clf.predict_proba(X_test)[::,1]\n",
        "fpr, tpr, _ = roc_curve(y_test,  prediction)\n",
        "auc = roc_auc_score(y_test, prediction)\n",
        "plt.plot(fpr,tpr,label=\"data 1, auc=\"+str(auc))\n",
        "plt.legend(loc=4)\n",
        "plt.show()"
      ],
      "execution_count": 76,
      "outputs": [
        {
          "output_type": "display_data",
          "data": {
            "image/png": "[encoded data removed]",
            "text/plain": [
              "<Figure size 432x288 with 1 Axes>"
            ]
          },
          "metadata": {
            "needs_background": "light"
          }
        }
      ]
    },
    {
      "cell_type": "markdown",
      "metadata": {
        "id": "ErIb-Cc_bCl6"
      },
      "source": [
        "## **Classifier 5 - Random Forest Classifier**\n",
        "\n"
      ]
    },
    {
      "cell_type": "code",
      "metadata": {
        "id": "bQC7NBBVbCl7"
      },
      "source": [
        "clf = RandomForestClassifier(max_depth= 2, n_estimators= 10, min_samples_leaf= 10, max_features= 'auto')\n",
        "model=clf.fit(X_train,y_train)\n",
        "prediction=model.predict(X_test)"
      ],
      "execution_count": 77,
      "outputs": []
    },
    {
      "cell_type": "code",
      "metadata": {
        "colab": {
          "base_uri": "https://localhost:8080/"
        },
        "id": "bAdzRAfjbCl7",
        "outputId": "ff24cbf5-f635-41ba-bb39-edcaefbbb3c7"
      },
      "source": [
        "# Measuring accuracy on Testing Data\n",
        "from sklearn import metrics\n",
        "print(metrics.classification_report(y_test, prediction))\n",
        "print(metrics.confusion_matrix(y_test, prediction))\n",
        "\n",
        "# the Overall Accuracy of the model\n",
        "F1_Score=metrics.f1_score(y_test, prediction, average='weighted')\n",
        "print('Accuracy of the model on Testing Sample Data:', round(F1_Score,2))"
      ],
      "execution_count": 78,
      "outputs": [
        {
          "output_type": "stream",
          "name": "stdout",
          "text": [
            "              precision    recall  f1-score   support\n",
            "\n",
            "           0       0.89      0.91      0.90       126\n",
            "           1       0.86      0.83      0.84        81\n",
            "\n",
            "    accuracy                           0.88       207\n",
            "   macro avg       0.88      0.87      0.87       207\n",
            "weighted avg       0.88      0.88      0.88       207\n",
            "\n",
            "[[115  11]\n",
            " [ 14  67]]\n",
            "Accuracy of the model on Testing Sample Data: 0.88\n"
          ]
        }
      ]
    },
    {
      "cell_type": "code",
      "metadata": {
        "colab": {
          "base_uri": "https://localhost:8080/"
        },
        "id": "4wY7gCRBbCl8",
        "outputId": "c89ef03d-4b85-41f7-ca8f-552684a8936e"
      },
      "source": [
        "# Importing cross validation function from sklearn\n",
        "from sklearn.model_selection import cross_val_score\n",
        "\n",
        "# Running Cross validation\n",
        "\n",
        "Accuracy_Values=cross_val_score(model, x_pca , y, cv=10, scoring='f1_weighted')\n",
        "print('\\nAccuracy values for 10-fold Cross Validation:\\n',Accuracy_Values)\n",
        "print('\\nFinal Average Accuracy of the model:', round(Accuracy_Values.mean(),2))"
      ],
      "execution_count": 79,
      "outputs": [
        {
          "output_type": "stream",
          "name": "stdout",
          "text": [
            "\n",
            "Accuracy values for 10-fold Cross Validation:\n",
            " [0.85562143 0.92697121 0.85507246 0.86983941 0.85369815 0.89867955\n",
            " 0.79582052 0.81199026 0.91315309 0.84091484]\n",
            "\n",
            "Final Average Accuracy of the model: 0.86\n"
          ]
        }
      ]
    },
    {
      "cell_type": "code",
      "metadata": {
        "colab": {
          "base_uri": "https://localhost:8080/"
        },
        "id": "kffWnbB8bCl9",
        "outputId": "97d9e8eb-88da-458e-df21-32e9e7b4bc05"
      },
      "source": [
        "#Calculating roc_auc_score\n",
        "from sklearn.metrics import roc_auc_score\n",
        "roc_auc_score(y_test ,prediction) "
      ],
      "execution_count": 80,
      "outputs": [
        {
          "output_type": "execute_result",
          "data": {
            "text/plain": [
              "0.8699294532627866"
            ]
          },
          "metadata": {},
          "execution_count": 80
        }
      ]
    },
    {
      "cell_type": "code",
      "metadata": {
        "colab": {
          "base_uri": "https://localhost:8080/",
          "height": 265
        },
        "id": "LebvY8eAbCl9",
        "outputId": "ad6487e0-36c7-45fc-d3b0-425c45816eb8"
      },
      "source": [
        "from sklearn.metrics import roc_curve\n",
        "pred_proba = clf.predict_proba(X_test)[::,1]\n",
        "fpr, tpr, _ = roc_curve(y_test,  prediction)\n",
        "auc = roc_auc_score(y_test, prediction)\n",
        "plt.plot(fpr,tpr,label=\"data 1, auc=\"+str(auc))\n",
        "plt.legend(loc=4)\n",
        "plt.show()"
      ],
      "execution_count": 81,
      "outputs": [
        {
          "output_type": "display_data",
          "data": {
            "image/png": "[encoded data removed]",
            "text/plain": [
              "<Figure size 432x288 with 1 Axes>"
            ]
          },
          "metadata": {
            "needs_background": "light"
          }
        }
      ]
    },
    {
      "cell_type": "markdown",
      "metadata": {
        "id": "bh9IVdjSbY9p"
      },
      "source": [
        "## **Classifier 6 - Gradient Boosting Classifier**\n",
        "\n"
      ]
    },
    {
      "cell_type": "code",
      "metadata": {
        "id": "gdFrvRQkbY9q"
      },
      "source": [
        "clf = GradientBoostingClassifier(learning_rate=0.05, max_depth= 2, n_estimators= 50, min_samples_leaf= 30, max_features= 'auto')\n",
        "model=clf.fit(X_train,y_train)\n",
        "prediction=model.predict(X_test)"
      ],
      "execution_count": 82,
      "outputs": []
    },
    {
      "cell_type": "code",
      "metadata": {
        "colab": {
          "base_uri": "https://localhost:8080/"
        },
        "id": "nyK2ubIIbY9r",
        "outputId": "1febe0b2-f74b-453a-e12e-2f0e41f1ec38"
      },
      "source": [
        "# Measuring accuracy on Testing Data\n",
        "from sklearn import metrics\n",
        "print(metrics.classification_report(y_test, prediction))\n",
        "print(metrics.confusion_matrix(y_test, prediction))\n",
        "\n",
        "# the Overall Accuracy of the model\n",
        "F1_Score=metrics.f1_score(y_test, prediction, average='weighted')\n",
        "print('Accuracy of the model on Testing Sample Data:', round(F1_Score,2))"
      ],
      "execution_count": 83,
      "outputs": [
        {
          "output_type": "stream",
          "name": "stdout",
          "text": [
            "              precision    recall  f1-score   support\n",
            "\n",
            "           0       0.91      0.87      0.89       126\n",
            "           1       0.80      0.86      0.83        81\n",
            "\n",
            "    accuracy                           0.86       207\n",
            "   macro avg       0.86      0.86      0.86       207\n",
            "weighted avg       0.87      0.86      0.87       207\n",
            "\n",
            "[[109  17]\n",
            " [ 11  70]]\n",
            "Accuracy of the model on Testing Sample Data: 0.87\n"
          ]
        }
      ]
    },
    {
      "cell_type": "code",
      "metadata": {
        "colab": {
          "base_uri": "https://localhost:8080/"
        },
        "id": "kx7YHQsVbY9s",
        "outputId": "bf83a228-ab0c-44c3-e641-8dd0d3002db7"
      },
      "source": [
        "# Importing cross validation function from sklearn\n",
        "from sklearn.model_selection import cross_val_score\n",
        "\n",
        "# Running Cross validation\n",
        "\n",
        "Accuracy_Values=cross_val_score(model, x_pca , y, cv=10, scoring='f1_weighted')\n",
        "print('\\nAccuracy values for 10-fold Cross Validation:\\n',Accuracy_Values)\n",
        "print('\\nFinal Average Accuracy of the model:', round(Accuracy_Values.mean(),2))"
      ],
      "execution_count": 84,
      "outputs": [
        {
          "output_type": "stream",
          "name": "stdout",
          "text": [
            "\n",
            "Accuracy values for 10-fold Cross Validation:\n",
            " [0.870115   0.91263118 0.82682139 0.89867955 0.89837793 0.92706983\n",
            " 0.79752987 0.85537848 0.94215139 0.79710145]\n",
            "\n",
            "Final Average Accuracy of the model: 0.87\n"
          ]
        }
      ]
    },
    {
      "cell_type": "code",
      "metadata": {
        "colab": {
          "base_uri": "https://localhost:8080/"
        },
        "id": "0Xuf7PCwbY9s",
        "outputId": "c881cd5e-d7cf-46b1-c33c-e07d093c63e4"
      },
      "source": [
        "#Calculating roc_auc_score\n",
        "from sklearn.metrics import roc_auc_score\n",
        "roc_auc_score(y_test ,prediction) "
      ],
      "execution_count": 85,
      "outputs": [
        {
          "output_type": "execute_result",
          "data": {
            "text/plain": [
              "0.8646384479717812"
            ]
          },
          "metadata": {},
          "execution_count": 85
        }
      ]
    },
    {
      "cell_type": "code",
      "metadata": {
        "colab": {
          "base_uri": "https://localhost:8080/",
          "height": 265
        },
        "id": "LoyxlqsbbY9t",
        "outputId": "8795bc88-8498-4c03-e33d-8a9c430cab81"
      },
      "source": [
        "from sklearn.metrics import roc_curve\n",
        "pred_proba = clf.predict_proba(X_test)[::,1]\n",
        "fpr, tpr, _ = roc_curve(y_test,  prediction)\n",
        "auc = roc_auc_score(y_test, prediction)\n",
        "plt.plot(fpr,tpr,label=\"data 1, auc=\"+str(auc))\n",
        "plt.legend(loc=4)\n",
        "plt.show()"
      ],
      "execution_count": 86,
      "outputs": [
        {
          "output_type": "display_data",
          "data": {
            "image/png": "[encoded data removed]",
            "text/plain": [
              "<Figure size 432x288 with 1 Axes>"
            ]
          },
          "metadata": {
            "needs_background": "light"
          }
        }
      ]
    },
    {
      "cell_type": "markdown",
      "metadata": {
        "id": "Pyutw6VQbpfA"
      },
      "source": [
        "## **Classifier 7 - Logistic Regression**\n",
        "\n"
      ]
    },
    {
      "cell_type": "code",
      "metadata": {
        "id": "g1IXBKXHbpfB"
      },
      "source": [
        "clf = LogisticRegression(penalty= 'l2', class_weight= 'balanced', C= 0.5)\n",
        "model=clf.fit(X_train,y_train)\n",
        "prediction=model.predict(X_test)"
      ],
      "execution_count": 87,
      "outputs": []
    },
    {
      "cell_type": "code",
      "metadata": {
        "colab": {
          "base_uri": "https://localhost:8080/"
        },
        "id": "03raHAFlbpfC",
        "outputId": "dee9f192-035f-4d68-f29e-b3150dbbec68"
      },
      "source": [
        "# Measuring accuracy on Testing Data\n",
        "from sklearn import metrics\n",
        "print(metrics.classification_report(y_test, prediction))\n",
        "print(metrics.confusion_matrix(y_test, prediction))\n",
        "\n",
        "# the Overall Accuracy of the model\n",
        "F1_Score=metrics.f1_score(y_test, prediction, average='weighted')\n",
        "print('Accuracy of the model on Testing Sample Data:', round(F1_Score,2))"
      ],
      "execution_count": 88,
      "outputs": [
        {
          "output_type": "stream",
          "name": "stdout",
          "text": [
            "              precision    recall  f1-score   support\n",
            "\n",
            "           0       0.92      0.86      0.89       126\n",
            "           1       0.80      0.89      0.84        81\n",
            "\n",
            "    accuracy                           0.87       207\n",
            "   macro avg       0.86      0.87      0.87       207\n",
            "weighted avg       0.87      0.87      0.87       207\n",
            "\n",
            "[[108  18]\n",
            " [  9  72]]\n",
            "Accuracy of the model on Testing Sample Data: 0.87\n"
          ]
        }
      ]
    },
    {
      "cell_type": "code",
      "metadata": {
        "colab": {
          "base_uri": "https://localhost:8080/"
        },
        "id": "Uf_5T-EgbpfC",
        "outputId": "0fadd34c-9cdd-4e71-87e8-39da4d6881ac"
      },
      "source": [
        "# Importing cross validation function from sklearn\n",
        "from sklearn.model_selection import cross_val_score\n",
        "\n",
        "# Running Cross validation\n",
        "\n",
        "Accuracy_Values=cross_val_score(model, x_pca , y, cv=10, scoring='f1_weighted')\n",
        "print('\\nAccuracy values for 10-fold Cross Validation:\\n',Accuracy_Values)\n",
        "print('\\nFinal Average Accuracy of the model:', round(Accuracy_Values.mean(),2))"
      ],
      "execution_count": 89,
      "outputs": [
        {
          "output_type": "stream",
          "name": "stdout",
          "text": [
            "\n",
            "Accuracy values for 10-fold Cross Validation:\n",
            " [0.870115   0.92697121 0.76850566 0.88430278 0.88435075 0.91270903\n",
            " 0.7826087  0.85537848 0.94217538 0.82652613]\n",
            "\n",
            "Final Average Accuracy of the model: 0.87\n"
          ]
        }
      ]
    },
    {
      "cell_type": "code",
      "metadata": {
        "colab": {
          "base_uri": "https://localhost:8080/"
        },
        "id": "IXPUJTV6bpfD",
        "outputId": "72cf92c9-e0a7-4124-bb9d-1cc54160e44b"
      },
      "source": [
        "#Calculating roc_auc_score\n",
        "from sklearn.metrics import roc_auc_score\n",
        "roc_auc_score(y_test ,prediction) "
      ],
      "execution_count": 90,
      "outputs": [
        {
          "output_type": "execute_result",
          "data": {
            "text/plain": [
              "0.873015873015873"
            ]
          },
          "metadata": {},
          "execution_count": 90
        }
      ]
    },
    {
      "cell_type": "code",
      "metadata": {
        "colab": {
          "base_uri": "https://localhost:8080/",
          "height": 265
        },
        "id": "2g3DArNhbpfD",
        "outputId": "0210d3bd-84f8-46db-a204-4db8a32c308e"
      },
      "source": [
        "from sklearn.metrics import roc_curve\n",
        "pred_proba = clf.predict_proba(X_test)[::,1]\n",
        "fpr, tpr, _ = roc_curve(y_test,  prediction)\n",
        "auc = roc_auc_score(y_test, prediction)\n",
        "plt.plot(fpr,tpr,label=\"data 1, auc=\"+str(auc))\n",
        "plt.legend(loc=4)\n",
        "plt.show()"
      ],
      "execution_count": 91,
      "outputs": [
        {
          "output_type": "display_data",
          "data": {
            "image/png": "[encoded data removed]",
            "text/plain": [
              "<Figure size 432x288 with 1 Axes>"
            ]
          },
          "metadata": {
            "needs_background": "light"
          }
        }
      ]
    },
    {
      "cell_type": "markdown",
      "metadata": {
        "id": "Q1-tLW-Rb-Qr"
      },
      "source": [
        "## **Classifier 8 - MLP Classifier**\n",
        "\n"
      ]
    },
    {
      "cell_type": "code",
      "metadata": {
        "id": "2bTrG65Wb-RA"
      },
      "source": [
        "clf = MLPClassifier (max_iter=1000,learning_rate= 'constant', activation= 'tanh', learning_rate_init= 0.1, alpha= 0.1)\n",
        "model=clf.fit(X_train,y_train)\n",
        "prediction=model.predict(X_test)"
      ],
      "execution_count": 92,
      "outputs": []
    },
    {
      "cell_type": "code",
      "metadata": {
        "colab": {
          "base_uri": "https://localhost:8080/"
        },
        "id": "PocW2V5db-RA",
        "outputId": "68d5f46e-3660-47c1-eab1-d79723fca167"
      },
      "source": [
        "# Measuring accuracy on Testing Data\n",
        "from sklearn import metrics\n",
        "print(metrics.classification_report(y_test, prediction))\n",
        "print(metrics.confusion_matrix(y_test, prediction))\n",
        "\n",
        "# the Overall Accuracy of the model\n",
        "F1_Score=metrics.f1_score(y_test, prediction, average='weighted')\n",
        "print('Accuracy of the model on Testing Sample Data:', round(F1_Score,2))"
      ],
      "execution_count": 93,
      "outputs": [
        {
          "output_type": "stream",
          "name": "stdout",
          "text": [
            "              precision    recall  f1-score   support\n",
            "\n",
            "           0       0.90      0.90      0.90       126\n",
            "           1       0.84      0.85      0.85        81\n",
            "\n",
            "    accuracy                           0.88       207\n",
            "   macro avg       0.87      0.87      0.87       207\n",
            "weighted avg       0.88      0.88      0.88       207\n",
            "\n",
            "[[113  13]\n",
            " [ 12  69]]\n",
            "Accuracy of the model on Testing Sample Data: 0.88\n"
          ]
        }
      ]
    },
    {
      "cell_type": "code",
      "metadata": {
        "colab": {
          "base_uri": "https://localhost:8080/"
        },
        "id": "5g7pTYRXb-RB",
        "outputId": "b99ad002-9db7-4818-f5f1-b4a814143121"
      },
      "source": [
        "# Importing cross validation function from sklearn\n",
        "from sklearn.model_selection import cross_val_score\n",
        "\n",
        "# Running Cross validation\n",
        "\n",
        "Accuracy_Values=cross_val_score(model, x_pca , y, cv=10, scoring='f1_weighted')\n",
        "print('\\nAccuracy values for 10-fold Cross Validation:\\n',Accuracy_Values)\n",
        "print('\\nFinal Average Accuracy of the model:', round(Accuracy_Values.mean(),2))"
      ],
      "execution_count": 94,
      "outputs": [
        {
          "output_type": "stream",
          "name": "stdout",
          "text": [
            "\n",
            "Accuracy values for 10-fold Cross Validation:\n",
            " [0.88440245 0.94137252 0.88274504 0.86989508 0.82608696 0.89723235\n",
            " 0.78120948 0.85507246 0.89867955 0.81207068]\n",
            "\n",
            "Final Average Accuracy of the model: 0.86\n"
          ]
        }
      ]
    },
    {
      "cell_type": "code",
      "metadata": {
        "colab": {
          "base_uri": "https://localhost:8080/"
        },
        "id": "ZeyHSTcnb-RB",
        "outputId": "d2726416-b9d4-40c9-a46a-e399b2060627"
      },
      "source": [
        "#Calculating roc_auc_score\n",
        "from sklearn.metrics import roc_auc_score\n",
        "roc_auc_score(y_test ,prediction) "
      ],
      "execution_count": 95,
      "outputs": [
        {
          "output_type": "execute_result",
          "data": {
            "text/plain": [
              "0.8743386243386243"
            ]
          },
          "metadata": {},
          "execution_count": 95
        }
      ]
    },
    {
      "cell_type": "code",
      "metadata": {
        "colab": {
          "base_uri": "https://localhost:8080/",
          "height": 265
        },
        "id": "L0a1-pmmb-RB",
        "outputId": "2723f7b8-cc48-4429-ca8d-b82d13ac8d8b"
      },
      "source": [
        "from sklearn.metrics import roc_curve\n",
        "pred_proba = clf.predict_proba(X_test)[::,1]\n",
        "fpr, tpr, _ = roc_curve(y_test,  prediction)\n",
        "auc = roc_auc_score(y_test, prediction)\n",
        "plt.plot(fpr,tpr,label=\"data 1, auc=\"+str(auc))\n",
        "plt.legend(loc=4)\n",
        "plt.show()"
      ],
      "execution_count": 96,
      "outputs": [
        {
          "output_type": "display_data",
          "data": {
            "image/png": "[encoded data removed]",
            "text/plain": [
              "<Figure size 432x288 with 1 Axes>"
            ]
          },
          "metadata": {
            "needs_background": "light"
          }
        }
      ]
    },
    {
      "cell_type": "markdown",
      "metadata": {
        "id": "oFiOG-i7cb5P"
      },
      "source": [
        "# **Classify using COBRA**\n",
        "\n",
        "Now we can combine the 8 machines above using COBRA and make classificaiton."
      ]
    },
    {
      "cell_type": "code",
      "metadata": {
        "colab": {
          "base_uri": "https://localhost:8080/"
        },
        "id": "YtfZk0OLcuRt",
        "outputId": "5c05ea7f-e102-46af-dc58-f44b174144fd"
      },
      "source": [
        "# Retraining the model using 100% data\n",
        "# Using the COBRA algorithm with advanced set of machine lists (combining all the above machines).\n",
        "import classifiercobra\n",
        "\n",
        "clf = classifiercobra.ClassifierCobra(machine_list=\"advanced\")\n",
        "clf"
      ],
      "execution_count": 97,
      "outputs": [
        {
          "output_type": "execute_result",
          "data": {
            "text/plain": [
              "ClassifierCobra(machine_list='advanced')"
            ]
          },
          "metadata": {},
          "execution_count": 97
        }
      ]
    },
    {
      "cell_type": "code",
      "metadata": {
        "id": "YnWUKyr5c6lE"
      },
      "source": [
        "# Training the model on 100% Data available\n",
        "cobra_model = clf.fit(x_pca, y)"
      ],
      "execution_count": 100,
      "outputs": []
    },
    {
      "cell_type": "code",
      "metadata": {
        "colab": {
          "base_uri": "https://localhost:8080/"
        },
        "id": "JVQ518R2dJtN",
        "outputId": "be27629f-5fd0-463e-b7aa-9259b7764fa7"
      },
      "source": [
        "# Cross validating the final model accuracy with less predictors\n",
        "# Importing cross validation function from sklearn\n",
        "from sklearn.model_selection import cross_val_score\n",
        "Accuracy_Values = cross_val_score(cobra_model, x_pca, y, cv=10, scoring=\"f1_weighted\")\n",
        "print(\"\\nAccuracy values for 10-fold Cross Validation:\\n\", Accuracy_Values)\n",
        "print(\"\\nFinal Average Accuracy of the model:\", round(Accuracy_Values.mean(), 4))"
      ],
      "execution_count": 108,
      "outputs": [
        {
          "output_type": "stream",
          "name": "stdout",
          "text": [
            "\n",
            "Accuracy values for 10-fold Cross Validation:\n",
            " [0.91308001 0.91270903 0.8400908  0.86939959 0.80870518 0.91270903\n",
            " 0.71872629 0.86945526 0.88361204 0.82476472]\n",
            "\n",
            "Final Average Accuracy of the model: 0.8553\n"
          ]
        }
      ]
    },
    {
      "cell_type": "markdown",
      "metadata": {
        "id": "JTQWpzgRwiaE"
      },
      "source": [
        "# Model Best Parameter"
      ]
    },
    {
      "cell_type": "markdown",
      "metadata": {
        "id": "TfLUAhyYwiaE"
      },
      "source": [
        "### Randomize Repeated Holdout"
      ]
    },
    {
      "cell_type": "code",
      "metadata": {
        "colab": {
          "base_uri": "https://localhost:8080/",
          "height": 293
        },
        "id": "Y0Vx0xp_wiaE",
        "outputId": "7e2fa146-4d4d-4d57-deaf-ec22782722de"
      },
      "source": [
        "ss = ShuffleSplit(n_splits=10, test_size=0.33, random_state=10)\n",
        "models = []\n",
        "models.append(('CART', DecisionTreeClassifier(class_weight='balanced', max_depth=None, max_leaf_nodes=None, min_samples_leaf=21, min_samples_split=2)))\n",
        "models.append(('KNN', KNeighborsClassifier(n_neighbors=20, weights='uniform')))\n",
        "models.append(('Naive Bayes', GaussianNB()))\n",
        "models.append(('SVM', SVC(C=0.01,kernel='linear')))\n",
        "models.append(('Random Forest', RandomForestClassifier(max_depth= 2, n_estimators= 10, min_samples_leaf= 10, max_features= 'auto')))\n",
        "models.append(('Gradient Boosting', GradientBoostingClassifier(learning_rate=0.05, max_depth= 2, n_estimators= 50, min_samples_leaf= 30, max_features= 'auto')))\n",
        "models.append(('Logistic Regression', LogisticRegression(penalty= 'l2', class_weight= 'balanced', C= 0.5)))\n",
        "models.append(('MLP', MLPClassifier (max_iter=1000,learning_rate= 'constant', activation= 'tanh', learning_rate_init= 0.1, alpha= 0.1)))\n",
        "results = []\n",
        "names = []\n",
        "table=[]\n",
        "for name, model in models:\n",
        "    accuracy=cross_val_score(model, x_pca, y, cv=ss)\n",
        "    results.append(accuracy.mean())\n",
        "    names.append(name)\n",
        "table=pd.DataFrame({'Accuracy':results},index=names).sort_values('Accuracy',ascending=False)\n",
        "table"
      ],
      "execution_count": 103,
      "outputs": [
        {
          "output_type": "execute_result",
          "data": {
            "text/html": [
              "<div>\n",
              "<style scoped>\n",
              "    .dataframe tbody tr th:only-of-type {\n",
              "        vertical-align: middle;\n",
              "    }\n",
              "\n",
              "    .dataframe tbody tr th {\n",
              "        vertical-align: top;\n",
              "    }\n",
              "\n",
              "    .dataframe thead th {\n",
              "        text-align: right;\n",
              "    }\n",
              "</style>\n",
              "<table border=\"1\" class=\"dataframe\">\n",
              "  <thead>\n",
              "    <tr style=\"text-align: right;\">\n",
              "      <th></th>\n",
              "      <th>Accuracy</th>\n",
              "    </tr>\n",
              "  </thead>\n",
              "  <tbody>\n",
              "    <tr>\n",
              "      <th>Gradient Boosting</th>\n",
              "      <td>0.870614</td>\n",
              "    </tr>\n",
              "    <tr>\n",
              "      <th>Logistic Regression</th>\n",
              "      <td>0.870175</td>\n",
              "    </tr>\n",
              "    <tr>\n",
              "      <th>CART</th>\n",
              "      <td>0.865789</td>\n",
              "    </tr>\n",
              "    <tr>\n",
              "      <th>KNN</th>\n",
              "      <td>0.865789</td>\n",
              "    </tr>\n",
              "    <tr>\n",
              "      <th>SVM</th>\n",
              "      <td>0.860965</td>\n",
              "    </tr>\n",
              "    <tr>\n",
              "      <th>MLP</th>\n",
              "      <td>0.856579</td>\n",
              "    </tr>\n",
              "    <tr>\n",
              "      <th>Random Forest</th>\n",
              "      <td>0.854825</td>\n",
              "    </tr>\n",
              "    <tr>\n",
              "      <th>Naive Bayes</th>\n",
              "      <td>0.812281</td>\n",
              "    </tr>\n",
              "  </tbody>\n",
              "</table>\n",
              "</div>"
            ],
            "text/plain": [
              "                     Accuracy\n",
              "Gradient Boosting    0.870614\n",
              "Logistic Regression  0.870175\n",
              "CART                 0.865789\n",
              "KNN                  0.865789\n",
              "SVM                  0.860965\n",
              "MLP                  0.856579\n",
              "Random Forest        0.854825\n",
              "Naive Bayes          0.812281"
            ]
          },
          "metadata": {},
          "execution_count": 103
        }
      ]
    },
    {
      "cell_type": "markdown",
      "metadata": {
        "id": "h2nihc13wiaF"
      },
      "source": [
        "### Stratified Repeated Holdout"
      ]
    },
    {
      "cell_type": "code",
      "metadata": {
        "colab": {
          "base_uri": "https://localhost:8080/",
          "height": 293
        },
        "id": "WxfT1k70wiaF",
        "outputId": "8cdc38e8-59f0-417c-e4b6-2ab46f922eba"
      },
      "source": [
        "sss = StratifiedShuffleSplit(n_splits=10, test_size=0.33, random_state=11)\n",
        "models = []\n",
        "models.append(('CART', DecisionTreeClassifier(class_weight='balanced', max_depth=None, max_leaf_nodes=None, min_samples_leaf=21, min_samples_split=2)))\n",
        "models.append(('KNN', KNeighborsClassifier(n_neighbors=20, weights='uniform')))\n",
        "models.append(('Naive Bayes', GaussianNB()))\n",
        "models.append(('SVM', SVC(C=0.01,kernel='linear')))\n",
        "models.append(('Random Forest', RandomForestClassifier(max_depth= 2, n_estimators= 10, min_samples_leaf= 10, max_features= 'auto')))\n",
        "models.append(('Gradient Boosting', GradientBoostingClassifier(learning_rate=0.05, max_depth= 2, n_estimators= 50, min_samples_leaf= 30, max_features= 'auto')))\n",
        "models.append(('Logistic Regression', LogisticRegression(penalty= 'l2', class_weight= 'balanced', C= 0.5)))\n",
        "models.append(('MLP', MLPClassifier (max_iter=1000,learning_rate= 'constant', activation= 'tanh', learning_rate_init= 0.1, alpha= 0.1)))\n",
        "results = []\n",
        "names = []\n",
        "table=[]\n",
        "for name, model in models:\n",
        "    accuracy=cross_val_score(model, x_pca, y, cv=ss)\n",
        "    results.append(accuracy.mean())\n",
        "    names.append(name)\n",
        "table=pd.DataFrame({'Akurasi':results},index=names).sort_values('Akurasi',ascending=False)\n",
        "table"
      ],
      "execution_count": 104,
      "outputs": [
        {
          "output_type": "execute_result",
          "data": {
            "text/html": [
              "<div>\n",
              "<style scoped>\n",
              "    .dataframe tbody tr th:only-of-type {\n",
              "        vertical-align: middle;\n",
              "    }\n",
              "\n",
              "    .dataframe tbody tr th {\n",
              "        vertical-align: top;\n",
              "    }\n",
              "\n",
              "    .dataframe thead th {\n",
              "        text-align: right;\n",
              "    }\n",
              "</style>\n",
              "<table border=\"1\" class=\"dataframe\">\n",
              "  <thead>\n",
              "    <tr style=\"text-align: right;\">\n",
              "      <th></th>\n",
              "      <th>Akurasi</th>\n",
              "    </tr>\n",
              "  </thead>\n",
              "  <tbody>\n",
              "    <tr>\n",
              "      <th>Gradient Boosting</th>\n",
              "      <td>0.870614</td>\n",
              "    </tr>\n",
              "    <tr>\n",
              "      <th>Logistic Regression</th>\n",
              "      <td>0.870175</td>\n",
              "    </tr>\n",
              "    <tr>\n",
              "      <th>CART</th>\n",
              "      <td>0.865789</td>\n",
              "    </tr>\n",
              "    <tr>\n",
              "      <th>KNN</th>\n",
              "      <td>0.865789</td>\n",
              "    </tr>\n",
              "    <tr>\n",
              "      <th>SVM</th>\n",
              "      <td>0.860965</td>\n",
              "    </tr>\n",
              "    <tr>\n",
              "      <th>Random Forest</th>\n",
              "      <td>0.860526</td>\n",
              "    </tr>\n",
              "    <tr>\n",
              "      <th>MLP</th>\n",
              "      <td>0.854386</td>\n",
              "    </tr>\n",
              "    <tr>\n",
              "      <th>Naive Bayes</th>\n",
              "      <td>0.812281</td>\n",
              "    </tr>\n",
              "  </tbody>\n",
              "</table>\n",
              "</div>"
            ],
            "text/plain": [
              "                      Akurasi\n",
              "Gradient Boosting    0.870614\n",
              "Logistic Regression  0.870175\n",
              "CART                 0.865789\n",
              "KNN                  0.865789\n",
              "SVM                  0.860965\n",
              "Random Forest        0.860526\n",
              "MLP                  0.854386\n",
              "Naive Bayes          0.812281"
            ]
          },
          "metadata": {},
          "execution_count": 104
        }
      ]
    },
    {
      "cell_type": "markdown",
      "metadata": {
        "id": "n3vQOQkowiaF"
      },
      "source": [
        "### Randomized Kfold"
      ]
    },
    {
      "cell_type": "code",
      "metadata": {
        "colab": {
          "base_uri": "https://localhost:8080/",
          "height": 293
        },
        "id": "KdyYeiY9wiaF",
        "outputId": "2ef85eb5-990d-4eb0-deaf-b8ba786db150"
      },
      "source": [
        "kfold=KFold(n_splits=10, shuffle=True, random_state=12)\n",
        "models = []\n",
        "models.append(('CART', DecisionTreeClassifier(class_weight='balanced', max_depth=None, max_leaf_nodes=None, min_samples_leaf=21, min_samples_split=2)))\n",
        "models.append(('KNN', KNeighborsClassifier(n_neighbors=20, weights='uniform')))\n",
        "models.append(('Naive Bayes', GaussianNB()))\n",
        "models.append(('SVM', SVC(C=0.01,kernel='linear')))\n",
        "models.append(('Random Forest', RandomForestClassifier(max_depth= 2, n_estimators= 10, min_samples_leaf= 10, max_features= 'auto')))\n",
        "models.append(('Gradient Boosting', GradientBoostingClassifier(learning_rate=0.05, max_depth= 2, n_estimators= 50, min_samples_leaf= 30, max_features= 'auto')))\n",
        "models.append(('Logistic Regression', LogisticRegression(penalty= 'l2', class_weight= 'balanced', C= 0.5)))\n",
        "models.append(('MLP', MLPClassifier (max_iter=1000,learning_rate= 'constant', activation= 'tanh', learning_rate_init= 0.1, alpha= 0.1)))\n",
        "results = []\n",
        "names = []\n",
        "table=[]\n",
        "for name, model in models:\n",
        "    accuracy=cross_val_score(model, x_pca, y, cv=ss)\n",
        "    results.append(accuracy.mean())\n",
        "    names.append(name)\n",
        "table=pd.DataFrame({'Accuracy':results},index=names).sort_values('Accuracy',ascending=False)\n",
        "table"
      ],
      "execution_count": 105,
      "outputs": [
        {
          "output_type": "execute_result",
          "data": {
            "text/html": [
              "<div>\n",
              "<style scoped>\n",
              "    .dataframe tbody tr th:only-of-type {\n",
              "        vertical-align: middle;\n",
              "    }\n",
              "\n",
              "    .dataframe tbody tr th {\n",
              "        vertical-align: top;\n",
              "    }\n",
              "\n",
              "    .dataframe thead th {\n",
              "        text-align: right;\n",
              "    }\n",
              "</style>\n",
              "<table border=\"1\" class=\"dataframe\">\n",
              "  <thead>\n",
              "    <tr style=\"text-align: right;\">\n",
              "      <th></th>\n",
              "      <th>Accuracy</th>\n",
              "    </tr>\n",
              "  </thead>\n",
              "  <tbody>\n",
              "    <tr>\n",
              "      <th>Gradient Boosting</th>\n",
              "      <td>0.870614</td>\n",
              "    </tr>\n",
              "    <tr>\n",
              "      <th>Logistic Regression</th>\n",
              "      <td>0.870175</td>\n",
              "    </tr>\n",
              "    <tr>\n",
              "      <th>CART</th>\n",
              "      <td>0.865789</td>\n",
              "    </tr>\n",
              "    <tr>\n",
              "      <th>KNN</th>\n",
              "      <td>0.865789</td>\n",
              "    </tr>\n",
              "    <tr>\n",
              "      <th>SVM</th>\n",
              "      <td>0.860965</td>\n",
              "    </tr>\n",
              "    <tr>\n",
              "      <th>Random Forest</th>\n",
              "      <td>0.859211</td>\n",
              "    </tr>\n",
              "    <tr>\n",
              "      <th>MLP</th>\n",
              "      <td>0.855702</td>\n",
              "    </tr>\n",
              "    <tr>\n",
              "      <th>Naive Bayes</th>\n",
              "      <td>0.812281</td>\n",
              "    </tr>\n",
              "  </tbody>\n",
              "</table>\n",
              "</div>"
            ],
            "text/plain": [
              "                     Accuracy\n",
              "Gradient Boosting    0.870614\n",
              "Logistic Regression  0.870175\n",
              "CART                 0.865789\n",
              "KNN                  0.865789\n",
              "SVM                  0.860965\n",
              "Random Forest        0.859211\n",
              "MLP                  0.855702\n",
              "Naive Bayes          0.812281"
            ]
          },
          "metadata": {},
          "execution_count": 105
        }
      ]
    },
    {
      "cell_type": "markdown",
      "metadata": {
        "id": "NLxv7qt-wiaF"
      },
      "source": [
        "### Stratified Kfold"
      ]
    },
    {
      "cell_type": "code",
      "metadata": {
        "scrolled": true,
        "colab": {
          "base_uri": "https://localhost:8080/",
          "height": 293
        },
        "id": "btg-7qsgwiaG",
        "outputId": "592b5522-6f60-4717-d55a-de261965ac8e"
      },
      "source": [
        "skfold=StratifiedKFold(n_splits=10, shuffle=True, random_state=13)\n",
        "models = []\n",
        "models.append(('CART', DecisionTreeClassifier(class_weight='balanced', max_depth=None, max_leaf_nodes=None, min_samples_leaf=21, min_samples_split=2)))\n",
        "models.append(('KNN', KNeighborsClassifier(n_neighbors=20, weights='uniform')))\n",
        "models.append(('Naive Bayes', GaussianNB()))\n",
        "models.append(('SVM', SVC(C=0.01,kernel='linear')))\n",
        "models.append(('Random Forest', RandomForestClassifier(max_depth= 2, n_estimators= 10, min_samples_leaf= 10, max_features= 'auto')))\n",
        "models.append(('Gradient Boosting', GradientBoostingClassifier(learning_rate=0.05, max_depth= 2, n_estimators= 50, min_samples_leaf= 30, max_features= 'auto')))\n",
        "models.append(('Logistic Regression', LogisticRegression(penalty= 'l2', class_weight= 'balanced', C= 0.5)))\n",
        "models.append(('MLP', MLPClassifier (max_iter=1000,learning_rate= 'constant', activation= 'tanh', learning_rate_init= 0.1, alpha= 0.1)))\n",
        "results = []\n",
        "names = []\n",
        "table=[]\n",
        "for name, model in models:\n",
        "    accuracy=cross_val_score(model, x_pca, y, cv=ss)\n",
        "    results.append(accuracy.mean())\n",
        "    names.append(name)\n",
        "table=pd.DataFrame({'Accuracy':results},index=names).sort_values('Accuracy',ascending=False)\n",
        "table"
      ],
      "execution_count": 106,
      "outputs": [
        {
          "output_type": "execute_result",
          "data": {
            "text/html": [
              "<div>\n",
              "<style scoped>\n",
              "    .dataframe tbody tr th:only-of-type {\n",
              "        vertical-align: middle;\n",
              "    }\n",
              "\n",
              "    .dataframe tbody tr th {\n",
              "        vertical-align: top;\n",
              "    }\n",
              "\n",
              "    .dataframe thead th {\n",
              "        text-align: right;\n",
              "    }\n",
              "</style>\n",
              "<table border=\"1\" class=\"dataframe\">\n",
              "  <thead>\n",
              "    <tr style=\"text-align: right;\">\n",
              "      <th></th>\n",
              "      <th>Accuracy</th>\n",
              "    </tr>\n",
              "  </thead>\n",
              "  <tbody>\n",
              "    <tr>\n",
              "      <th>Gradient Boosting</th>\n",
              "      <td>0.870614</td>\n",
              "    </tr>\n",
              "    <tr>\n",
              "      <th>Logistic Regression</th>\n",
              "      <td>0.870175</td>\n",
              "    </tr>\n",
              "    <tr>\n",
              "      <th>CART</th>\n",
              "      <td>0.865789</td>\n",
              "    </tr>\n",
              "    <tr>\n",
              "      <th>KNN</th>\n",
              "      <td>0.865789</td>\n",
              "    </tr>\n",
              "    <tr>\n",
              "      <th>Random Forest</th>\n",
              "      <td>0.862719</td>\n",
              "    </tr>\n",
              "    <tr>\n",
              "      <th>SVM</th>\n",
              "      <td>0.860965</td>\n",
              "    </tr>\n",
              "    <tr>\n",
              "      <th>MLP</th>\n",
              "      <td>0.853070</td>\n",
              "    </tr>\n",
              "    <tr>\n",
              "      <th>Naive Bayes</th>\n",
              "      <td>0.812281</td>\n",
              "    </tr>\n",
              "  </tbody>\n",
              "</table>\n",
              "</div>"
            ],
            "text/plain": [
              "                     Accuracy\n",
              "Gradient Boosting    0.870614\n",
              "Logistic Regression  0.870175\n",
              "CART                 0.865789\n",
              "KNN                  0.865789\n",
              "Random Forest        0.862719\n",
              "SVM                  0.860965\n",
              "MLP                  0.853070\n",
              "Naive Bayes          0.812281"
            ]
          },
          "metadata": {},
          "execution_count": 106
        }
      ]
    },
    {
      "cell_type": "markdown",
      "metadata": {
        "id": "zRs6yvo_wiaG"
      },
      "source": [
        "### Leave One Out"
      ]
    },
    {
      "cell_type": "code",
      "metadata": {
        "collapsed": true,
        "colab": {
          "base_uri": "https://localhost:8080/",
          "height": 293
        },
        "id": "8VbQxIQzwiaG",
        "outputId": "b908be5b-fa0d-46c9-8084-6f1c5996a7c4"
      },
      "source": [
        "lvo=LeaveOneOut()\n",
        "models = []\n",
        "models.append(('CART', DecisionTreeClassifier(class_weight='balanced', max_depth=None, max_leaf_nodes=None, min_samples_leaf=21, min_samples_split=2)))\n",
        "models.append(('KNN', KNeighborsClassifier(n_neighbors=20, weights='uniform')))\n",
        "models.append(('Naive Bayes', GaussianNB()))\n",
        "models.append(('SVM', SVC(C=0.01,kernel='linear')))\n",
        "models.append(('Random Forest', RandomForestClassifier(max_depth= 2, n_estimators= 10, min_samples_leaf= 10, max_features= 'auto')))\n",
        "models.append(('Gradient Boosting', GradientBoostingClassifier(learning_rate=0.05, max_depth= 2, n_estimators= 50, min_samples_leaf= 30, max_features= 'auto')))\n",
        "models.append(('Logistic Regression', LogisticRegression(penalty= 'l2', class_weight= 'balanced', C= 0.5)))\n",
        "models.append(('MLP', MLPClassifier (max_iter=1000,learning_rate= 'constant', activation= 'tanh', learning_rate_init= 0.1, alpha= 0.1)))\n",
        "results = []\n",
        "names = []\n",
        "table=[]\n",
        "for name, model in models:\n",
        "    accuracy=cross_val_score(model, x_pca, y, cv=lvo)\n",
        "    results.append(accuracy.mean())\n",
        "    names.append(name)\n",
        "\n",
        "table=pd.DataFrame({'Accuracy':results},index=names).sort_values('Accuracy',ascending=False)\n",
        "table"
      ],
      "execution_count": 107,
      "outputs": [
        {
          "output_type": "execute_result",
          "data": {
            "text/html": [
              "<div>\n",
              "<style scoped>\n",
              "    .dataframe tbody tr th:only-of-type {\n",
              "        vertical-align: middle;\n",
              "    }\n",
              "\n",
              "    .dataframe tbody tr th {\n",
              "        vertical-align: top;\n",
              "    }\n",
              "\n",
              "    .dataframe thead th {\n",
              "        text-align: right;\n",
              "    }\n",
              "</style>\n",
              "<table border=\"1\" class=\"dataframe\">\n",
              "  <thead>\n",
              "    <tr style=\"text-align: right;\">\n",
              "      <th></th>\n",
              "      <th>Accuracy</th>\n",
              "    </tr>\n",
              "  </thead>\n",
              "  <tbody>\n",
              "    <tr>\n",
              "      <th>CART</th>\n",
              "      <td>0.879710</td>\n",
              "    </tr>\n",
              "    <tr>\n",
              "      <th>Gradient Boosting</th>\n",
              "      <td>0.878261</td>\n",
              "    </tr>\n",
              "    <tr>\n",
              "      <th>KNN</th>\n",
              "      <td>0.866667</td>\n",
              "    </tr>\n",
              "    <tr>\n",
              "      <th>Logistic Regression</th>\n",
              "      <td>0.863768</td>\n",
              "    </tr>\n",
              "    <tr>\n",
              "      <th>Random Forest</th>\n",
              "      <td>0.856522</td>\n",
              "    </tr>\n",
              "    <tr>\n",
              "      <th>SVM</th>\n",
              "      <td>0.855072</td>\n",
              "    </tr>\n",
              "    <tr>\n",
              "      <th>MLP</th>\n",
              "      <td>0.852174</td>\n",
              "    </tr>\n",
              "    <tr>\n",
              "      <th>Naive Bayes</th>\n",
              "      <td>0.836232</td>\n",
              "    </tr>\n",
              "  </tbody>\n",
              "</table>\n",
              "</div>"
            ],
            "text/plain": [
              "                     Accuracy\n",
              "CART                 0.879710\n",
              "Gradient Boosting    0.878261\n",
              "KNN                  0.866667\n",
              "Logistic Regression  0.863768\n",
              "Random Forest        0.856522\n",
              "SVM                  0.855072\n",
              "MLP                  0.852174\n",
              "Naive Bayes          0.836232"
            ]
          },
          "metadata": {},
          "execution_count": 107
        }
      ]
    }
  ]
}